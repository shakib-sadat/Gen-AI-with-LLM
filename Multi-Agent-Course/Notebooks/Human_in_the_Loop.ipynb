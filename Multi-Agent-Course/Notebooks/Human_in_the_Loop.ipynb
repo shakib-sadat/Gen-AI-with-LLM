{
 "cells": [
  {
   "cell_type": "markdown",
   "id": "8ad976db-fb87-4a92-b0d2-06defc098339",
   "metadata": {},
   "source": [
    "# Lesson 5: Human in the Loop"
   ]
  },
  {
   "cell_type": "markdown",
   "id": "91d756c3-9c97-4155-9b56-8ecfed5f1876",
   "metadata": {},
   "source": [
    "Note: This notebook is running in a later version of langgraph that it was filmed with. The later version has a couple of key additions:\n",
    "- Additional state information is stored to memory and displayed when using `get_state()` or `get_state_history()`.\n",
    "- State is additionally stored every state transition while previously it was stored at an interrupt or at the end.\n",
    "These change the command output slightly, but are a useful addtion to the information available."
   ]
  },
  {
   "cell_type": "code",
   "execution_count": 7,
   "id": "f5762271-8736-4e94-9444-8c92bd0e8074",
   "metadata": {
    "height": 64
   },
   "outputs": [],
   "source": [
    "from dotenv import load_dotenv\n",
    "\n",
    "_ = load_dotenv()"
   ]
  },
  {
   "cell_type": "code",
   "execution_count": 8,
   "id": "d0168aee-bce9-4d60-b827-f86a88187e31",
   "metadata": {
    "height": 183
   },
   "outputs": [],
   "source": [
    "from langgraph.graph import StateGraph, END\n",
    "from typing import TypedDict, Annotated\n",
    "import operator\n",
    "from langchain_core.messages import AnyMessage, SystemMessage, HumanMessage, ToolMessage\n",
    "from langchain_openai import ChatOpenAI\n",
    "from langchain_community.tools.tavily_search import TavilySearchResults\n",
    "from langgraph.checkpoint.sqlite import SqliteSaver\n",
    "\n",
    "memory = SqliteSaver.from_conn_string(\":memory:\")"
   ]
  },
  {
   "cell_type": "code",
   "execution_count": 9,
   "id": "2589c5b6-6cc2-4594-9a17-dccdcf676054",
   "metadata": {
    "height": 574
   },
   "outputs": [],
   "source": [
    "from uuid import uuid4\n",
    "from langchain_core.messages import AnyMessage, SystemMessage, HumanMessage, AIMessage\n",
    "\n",
    "\"\"\"\n",
    "In previous examples we've annotated the `messages` state key\n",
    "with the default `operator.add` or `+` reducer, which always\n",
    "appends new messages to the end of the existing messages array.\n",
    "\n",
    "Now, to support replacing existing messages, we annotate the\n",
    "`messages` key with a customer reducer function, which replaces\n",
    "messages with the same `id`, and appends them otherwise.\n",
    "\"\"\"\n",
    "def reduce_messages(left: list[AnyMessage], right: list[AnyMessage]) -> list[AnyMessage]:\n",
    "    # assign ids to messages that don't have them\n",
    "    for message in right:\n",
    "        if not message.id:\n",
    "            message.id = str(uuid4())\n",
    "    # merge the new messages with the existing messages\n",
    "    merged = left.copy()\n",
    "    for message in right:\n",
    "        for i, existing in enumerate(merged):\n",
    "            # replace any existing messages with the same id\n",
    "            if existing.id == message.id:\n",
    "                merged[i] = message\n",
    "                break\n",
    "        else:\n",
    "            # append any new messages to the end\n",
    "            merged.append(message)\n",
    "    return merged\n",
    "\n",
    "class AgentState(TypedDict):\n",
    "    messages: Annotated[list[AnyMessage], reduce_messages]"
   ]
  },
  {
   "cell_type": "code",
   "execution_count": 10,
   "id": "a2ba84ec-c172-4de7-ac55-e3158a531b23",
   "metadata": {
    "height": 30
   },
   "outputs": [],
   "source": [
    "tool = TavilySearchResults(max_results=2)"
   ]
  },
  {
   "cell_type": "markdown",
   "id": "d58320dc-c542-4a3c-bcf1-088909f9b075",
   "metadata": {},
   "source": [
    "## Manual human approval"
   ]
  },
  {
   "cell_type": "code",
   "execution_count": 11,
   "id": "46a0e94e-d015-4106-b439-dbcd2fcb8bb0",
   "metadata": {
    "height": 659
   },
   "outputs": [],
   "source": [
    "class Agent:\n",
    "    def __init__(self, model, tools, system=\"\", checkpointer=None):\n",
    "        self.system = system\n",
    "        graph = StateGraph(AgentState)\n",
    "        graph.add_node(\"llm\", self.call_openai)\n",
    "        graph.add_node(\"action\", self.take_action)\n",
    "        graph.add_conditional_edges(\"llm\", self.exists_action, {True: \"action\", False: END})\n",
    "        graph.add_edge(\"action\", \"llm\")\n",
    "        graph.set_entry_point(\"llm\")\n",
    "        self.graph = graph.compile(\n",
    "            checkpointer=checkpointer,\n",
    "            interrupt_before=[\"action\"]\n",
    "        )\n",
    "        self.tools = {t.name: t for t in tools}\n",
    "        self.model = model.bind_tools(tools) #Interreupts all available tools. Have to modify if any specific tools to be interrupted.\n",
    "\n",
    "    def call_openai(self, state: AgentState):\n",
    "        messages = state['messages']\n",
    "        if self.system:\n",
    "            messages = [SystemMessage(content=self.system)] + messages\n",
    "        message = self.model.invoke(messages)\n",
    "        return {'messages': [message]}\n",
    "\n",
    "    def exists_action(self, state: AgentState):\n",
    "        print(state)\n",
    "        result = state['messages'][-1]\n",
    "        return len(result.tool_calls) > 0\n",
    "\n",
    "    def take_action(self, state: AgentState):\n",
    "        tool_calls = state['messages'][-1].tool_calls\n",
    "        results = []\n",
    "        for t in tool_calls:\n",
    "            print(f\"Calling: {t}\")\n",
    "            result = self.tools[t['name']].invoke(t['args'])\n",
    "            results.append(ToolMessage(tool_call_id=t['id'], name=t['name'], content=str(result)))\n",
    "        print(\"Back to the model!\")\n",
    "        return {'messages': results}"
   ]
  },
  {
   "cell_type": "code",
   "execution_count": 12,
   "id": "10084a02-2928-4945-9f7c-ad3f5b33caf7",
   "metadata": {
    "height": 149
   },
   "outputs": [],
   "source": [
    "prompt = \"\"\"You are a smart research assistant. Use the search engine to look up information. \\\n",
    "You are allowed to make multiple calls (either together or in sequence). \\\n",
    "Only look up information when you are sure of what you want. \\\n",
    "If you need to look up some information before asking a follow up question, you are allowed to do that!\n",
    "\"\"\"\n",
    "model = ChatOpenAI(model=\"gpt-3.5-turbo\")\n",
    "abot = Agent(model, [tool], system=prompt, checkpointer=memory)"
   ]
  },
  {
   "cell_type": "code",
   "execution_count": 13,
   "id": "714d1205-f8fc-4912-b148-2a45da99219c",
   "metadata": {
    "height": 98
   },
   "outputs": [
    {
     "name": "stdout",
     "output_type": "stream",
     "text": [
      "{'messages': [HumanMessage(content='Whats the weather in Liverpool?', id='c4801aa6-c1f9-44ec-946c-b377ce67c94d'), AIMessage(content='', additional_kwargs={'tool_calls': [{'id': 'call_DgERLtQNXfjLh3akxEAM64Sw', 'function': {'arguments': '{\"query\":\"weather in Liverpool\"}', 'name': 'tavily_search_results_json'}, 'type': 'function'}]}, response_metadata={'token_usage': {'completion_tokens': 20, 'prompt_tokens': 152, 'total_tokens': 172}, 'model_name': 'gpt-3.5-turbo', 'system_fingerprint': None, 'finish_reason': 'tool_calls', 'logprobs': None}, id='run-245ef508-6370-432e-b658-0f359320b321-0', tool_calls=[{'name': 'tavily_search_results_json', 'args': {'query': 'weather in Liverpool'}, 'id': 'call_DgERLtQNXfjLh3akxEAM64Sw'}])]}\n",
      "{'messages': [AIMessage(content='', additional_kwargs={'tool_calls': [{'id': 'call_DgERLtQNXfjLh3akxEAM64Sw', 'function': {'arguments': '{\"query\":\"weather in Liverpool\"}', 'name': 'tavily_search_results_json'}, 'type': 'function'}]}, response_metadata={'token_usage': {'completion_tokens': 20, 'prompt_tokens': 152, 'total_tokens': 172}, 'model_name': 'gpt-3.5-turbo', 'system_fingerprint': None, 'finish_reason': 'tool_calls', 'logprobs': None}, id='run-245ef508-6370-432e-b658-0f359320b321-0', tool_calls=[{'name': 'tavily_search_results_json', 'args': {'query': 'weather in Liverpool'}, 'id': 'call_DgERLtQNXfjLh3akxEAM64Sw'}])]}\n"
     ]
    }
   ],
   "source": [
    "messages = [HumanMessage(content=\"Whats the weather in Liverpool?\")]\n",
    "thread = {\"configurable\": {\"thread_id\": \"1\"}}\n",
    "for event in abot.graph.stream({\"messages\": messages}, thread):\n",
    "    for v in event.values():\n",
    "        print(v)"
   ]
  },
  {
   "cell_type": "code",
   "execution_count": 14,
   "id": "83588e70-254f-4f83-a510-c8ae81e729b0",
   "metadata": {
    "height": 30
   },
   "outputs": [
    {
     "data": {
      "text/plain": [
       "StateSnapshot(values={'messages': [HumanMessage(content='Whats the weather in Liverpool?', id='c4801aa6-c1f9-44ec-946c-b377ce67c94d'), AIMessage(content='', additional_kwargs={'tool_calls': [{'function': {'arguments': '{\"query\":\"weather in Liverpool\"}', 'name': 'tavily_search_results_json'}, 'id': 'call_DgERLtQNXfjLh3akxEAM64Sw', 'type': 'function'}]}, response_metadata={'finish_reason': 'tool_calls', 'logprobs': None, 'model_name': 'gpt-3.5-turbo', 'system_fingerprint': None, 'token_usage': {'completion_tokens': 20, 'prompt_tokens': 152, 'total_tokens': 172}}, id='run-245ef508-6370-432e-b658-0f359320b321-0', tool_calls=[{'name': 'tavily_search_results_json', 'args': {'query': 'weather in Liverpool'}, 'id': 'call_DgERLtQNXfjLh3akxEAM64Sw'}])]}, next=('action',), config={'configurable': {'thread_id': '1', 'thread_ts': '1ef2d6ed-55d7-647b-8001-a5e49b2808ba'}}, metadata={'source': 'loop', 'step': 1, 'writes': {'llm': {'messages': [AIMessage(content='', additional_kwargs={'tool_calls': [{'function': {'arguments': '{\"query\":\"weather in Liverpool\"}', 'name': 'tavily_search_results_json'}, 'id': 'call_DgERLtQNXfjLh3akxEAM64Sw', 'type': 'function'}]}, response_metadata={'finish_reason': 'tool_calls', 'logprobs': None, 'model_name': 'gpt-3.5-turbo', 'system_fingerprint': None, 'token_usage': {'completion_tokens': 20, 'prompt_tokens': 152, 'total_tokens': 172}}, id='run-245ef508-6370-432e-b658-0f359320b321-0', tool_calls=[{'name': 'tavily_search_results_json', 'args': {'query': 'weather in Liverpool'}, 'id': 'call_DgERLtQNXfjLh3akxEAM64Sw'}])]}}}, created_at='2024-06-18T12:32:32.109868+00:00', parent_config={'configurable': {'thread_id': '1', 'thread_ts': '1ef2d6ed-4f1b-6941-8000-b2c4f26ebb29'}})"
      ]
     },
     "execution_count": 14,
     "metadata": {},
     "output_type": "execute_result"
    }
   ],
   "source": [
    "abot.graph.get_state(thread)"
   ]
  },
  {
   "cell_type": "code",
   "execution_count": 15,
   "id": "6cb3ef4c-58b3-401b-b104-0d51e553d982",
   "metadata": {
    "height": 30
   },
   "outputs": [
    {
     "data": {
      "text/plain": [
       "('action',)"
      ]
     },
     "execution_count": 15,
     "metadata": {},
     "output_type": "execute_result"
    }
   ],
   "source": [
    "abot.graph.get_state(thread).next"
   ]
  },
  {
   "cell_type": "markdown",
   "id": "f1f404d5-a3be-42c1-9990-b1e1ee011163",
   "metadata": {},
   "source": [
    "### continue after interrupt"
   ]
  },
  {
   "cell_type": "code",
   "execution_count": 16,
   "id": "dc3293b7-a50c-43c8-a022-8975e1e444b8",
   "metadata": {
    "height": 64
   },
   "outputs": [
    {
     "name": "stdout",
     "output_type": "stream",
     "text": [
      "Calling: {'name': 'tavily_search_results_json', 'args': {'query': 'weather in Liverpool'}, 'id': 'call_DgERLtQNXfjLh3akxEAM64Sw'}\n",
      "Back to the model!\n",
      "{'messages': [ToolMessage(content='[{\\'url\\': \\'https://www.weatherapi.com/\\', \\'content\\': \"{\\'location\\': {\\'name\\': \\'Liverpool\\', \\'region\\': \\'Merseyside\\', \\'country\\': \\'United Kingdom\\', \\'lat\\': 53.42, \\'lon\\': -2.94, \\'tz_id\\': \\'Europe/London\\', \\'localtime_epoch\\': 1718713959, \\'localtime\\': \\'2024-06-18 13:32\\'}, \\'current\\': {\\'last_updated_epoch\\': 1718713800, \\'last_updated\\': \\'2024-06-18 13:30\\', \\'temp_c\\': 14.8, \\'temp_f\\': 58.7, \\'is_day\\': 1, \\'condition\\': {\\'text\\': \\'Cloudy\\', \\'icon\\': \\'//cdn.weatherapi.com/weather/64x64/day/119.png\\', \\'code\\': 1006}, \\'wind_mph\\': 10.1, \\'wind_kph\\': 16.2, \\'wind_degree\\': 302, \\'wind_dir\\': \\'WNW\\', \\'pressure_mb\\': 1017.0, \\'pressure_in\\': 30.02, \\'precip_mm\\': 0.0, \\'precip_in\\': 0.0, \\'humidity\\': 69, \\'cloud\\': 64, \\'feelslike_c\\': 13.8, \\'feelslike_f\\': 56.8, \\'windchill_c\\': 13.8, \\'windchill_f\\': 56.8, \\'heatindex_c\\': 14.8, \\'heatindex_f\\': 58.7, \\'dewpoint_c\\': 9.2, \\'dewpoint_f\\': 48.5, \\'vis_km\\': 10.0, \\'vis_miles\\': 6.0, \\'uv\\': 3.0, \\'gust_mph\\': 11.6, \\'gust_kph\\': 18.6}}\"}, {\\'url\\': \\'https://weatherspark.com/h/y/39878/2024/Historical-Weather-during-2024-in-Liverpool-United-Kingdom\\', \\'content\\': \\'Raw: EGGP 101250Z 31015KT 9999 FEW038 15/06 Q1015. This report shows the past weather for Liverpool, providing a weather history for 2024. It features all historical weather data series we have available, including the Liverpool temperature history for 2024. You can drill down from year to month and even day level reports by clicking on the graphs.\\'}]', name='tavily_search_results_json', id='b252d3b9-8b45-4f7e-8400-38032890909d', tool_call_id='call_DgERLtQNXfjLh3akxEAM64Sw')]}\n",
      "{'messages': [HumanMessage(content='Whats the weather in Liverpool?', id='c4801aa6-c1f9-44ec-946c-b377ce67c94d'), AIMessage(content='', additional_kwargs={'tool_calls': [{'function': {'arguments': '{\"query\":\"weather in Liverpool\"}', 'name': 'tavily_search_results_json'}, 'id': 'call_DgERLtQNXfjLh3akxEAM64Sw', 'type': 'function'}]}, response_metadata={'finish_reason': 'tool_calls', 'logprobs': None, 'model_name': 'gpt-3.5-turbo', 'system_fingerprint': None, 'token_usage': {'completion_tokens': 20, 'prompt_tokens': 152, 'total_tokens': 172}}, id='run-245ef508-6370-432e-b658-0f359320b321-0', tool_calls=[{'name': 'tavily_search_results_json', 'args': {'query': 'weather in Liverpool'}, 'id': 'call_DgERLtQNXfjLh3akxEAM64Sw'}]), ToolMessage(content='[{\\'url\\': \\'https://www.weatherapi.com/\\', \\'content\\': \"{\\'location\\': {\\'name\\': \\'Liverpool\\', \\'region\\': \\'Merseyside\\', \\'country\\': \\'United Kingdom\\', \\'lat\\': 53.42, \\'lon\\': -2.94, \\'tz_id\\': \\'Europe/London\\', \\'localtime_epoch\\': 1718713959, \\'localtime\\': \\'2024-06-18 13:32\\'}, \\'current\\': {\\'last_updated_epoch\\': 1718713800, \\'last_updated\\': \\'2024-06-18 13:30\\', \\'temp_c\\': 14.8, \\'temp_f\\': 58.7, \\'is_day\\': 1, \\'condition\\': {\\'text\\': \\'Cloudy\\', \\'icon\\': \\'//cdn.weatherapi.com/weather/64x64/day/119.png\\', \\'code\\': 1006}, \\'wind_mph\\': 10.1, \\'wind_kph\\': 16.2, \\'wind_degree\\': 302, \\'wind_dir\\': \\'WNW\\', \\'pressure_mb\\': 1017.0, \\'pressure_in\\': 30.02, \\'precip_mm\\': 0.0, \\'precip_in\\': 0.0, \\'humidity\\': 69, \\'cloud\\': 64, \\'feelslike_c\\': 13.8, \\'feelslike_f\\': 56.8, \\'windchill_c\\': 13.8, \\'windchill_f\\': 56.8, \\'heatindex_c\\': 14.8, \\'heatindex_f\\': 58.7, \\'dewpoint_c\\': 9.2, \\'dewpoint_f\\': 48.5, \\'vis_km\\': 10.0, \\'vis_miles\\': 6.0, \\'uv\\': 3.0, \\'gust_mph\\': 11.6, \\'gust_kph\\': 18.6}}\"}, {\\'url\\': \\'https://weatherspark.com/h/y/39878/2024/Historical-Weather-during-2024-in-Liverpool-United-Kingdom\\', \\'content\\': \\'Raw: EGGP 101250Z 31015KT 9999 FEW038 15/06 Q1015. This report shows the past weather for Liverpool, providing a weather history for 2024. It features all historical weather data series we have available, including the Liverpool temperature history for 2024. You can drill down from year to month and even day level reports by clicking on the graphs.\\'}]', name='tavily_search_results_json', id='b252d3b9-8b45-4f7e-8400-38032890909d', tool_call_id='call_DgERLtQNXfjLh3akxEAM64Sw'), AIMessage(content='The current weather in Liverpool is as follows:\\n- Temperature: 14.8°C (58.7°F)\\n- Condition: Cloudy\\n- Wind: 16.2 km/h from WNW\\n- Pressure: 1017.0 mb\\n- Humidity: 69%\\n- Visibility: 10.0 km\\n- UV Index: 3.0\\n\\nIf you need more detailed information, please let me know!', response_metadata={'token_usage': {'completion_tokens': 90, 'prompt_tokens': 715, 'total_tokens': 805}, 'model_name': 'gpt-3.5-turbo', 'system_fingerprint': None, 'finish_reason': 'stop', 'logprobs': None}, id='run-6b6c616e-094a-400a-bf02-cf600cd5fd15-0')]}\n",
      "{'messages': [AIMessage(content='The current weather in Liverpool is as follows:\\n- Temperature: 14.8°C (58.7°F)\\n- Condition: Cloudy\\n- Wind: 16.2 km/h from WNW\\n- Pressure: 1017.0 mb\\n- Humidity: 69%\\n- Visibility: 10.0 km\\n- UV Index: 3.0\\n\\nIf you need more detailed information, please let me know!', response_metadata={'token_usage': {'completion_tokens': 90, 'prompt_tokens': 715, 'total_tokens': 805}, 'model_name': 'gpt-3.5-turbo', 'system_fingerprint': None, 'finish_reason': 'stop', 'logprobs': None}, id='run-6b6c616e-094a-400a-bf02-cf600cd5fd15-0')]}\n"
     ]
    }
   ],
   "source": [
    "for event in abot.graph.stream(None, thread):\n",
    "    for v in event.values():\n",
    "        print(v)"
   ]
  },
  {
   "cell_type": "code",
   "execution_count": 17,
   "id": "0722c3d4-4cbf-43bf-81b0-50f634c4ce61",
   "metadata": {
    "height": 30
   },
   "outputs": [
    {
     "data": {
      "text/plain": [
       "StateSnapshot(values={'messages': [HumanMessage(content='Whats the weather in Liverpool?', id='c4801aa6-c1f9-44ec-946c-b377ce67c94d'), AIMessage(content='', additional_kwargs={'tool_calls': [{'function': {'arguments': '{\"query\":\"weather in Liverpool\"}', 'name': 'tavily_search_results_json'}, 'id': 'call_DgERLtQNXfjLh3akxEAM64Sw', 'type': 'function'}]}, response_metadata={'finish_reason': 'tool_calls', 'logprobs': None, 'model_name': 'gpt-3.5-turbo', 'system_fingerprint': None, 'token_usage': {'completion_tokens': 20, 'prompt_tokens': 152, 'total_tokens': 172}}, id='run-245ef508-6370-432e-b658-0f359320b321-0', tool_calls=[{'name': 'tavily_search_results_json', 'args': {'query': 'weather in Liverpool'}, 'id': 'call_DgERLtQNXfjLh3akxEAM64Sw'}]), ToolMessage(content='[{\\'url\\': \\'https://www.weatherapi.com/\\', \\'content\\': \"{\\'location\\': {\\'name\\': \\'Liverpool\\', \\'region\\': \\'Merseyside\\', \\'country\\': \\'United Kingdom\\', \\'lat\\': 53.42, \\'lon\\': -2.94, \\'tz_id\\': \\'Europe/London\\', \\'localtime_epoch\\': 1718713959, \\'localtime\\': \\'2024-06-18 13:32\\'}, \\'current\\': {\\'last_updated_epoch\\': 1718713800, \\'last_updated\\': \\'2024-06-18 13:30\\', \\'temp_c\\': 14.8, \\'temp_f\\': 58.7, \\'is_day\\': 1, \\'condition\\': {\\'text\\': \\'Cloudy\\', \\'icon\\': \\'//cdn.weatherapi.com/weather/64x64/day/119.png\\', \\'code\\': 1006}, \\'wind_mph\\': 10.1, \\'wind_kph\\': 16.2, \\'wind_degree\\': 302, \\'wind_dir\\': \\'WNW\\', \\'pressure_mb\\': 1017.0, \\'pressure_in\\': 30.02, \\'precip_mm\\': 0.0, \\'precip_in\\': 0.0, \\'humidity\\': 69, \\'cloud\\': 64, \\'feelslike_c\\': 13.8, \\'feelslike_f\\': 56.8, \\'windchill_c\\': 13.8, \\'windchill_f\\': 56.8, \\'heatindex_c\\': 14.8, \\'heatindex_f\\': 58.7, \\'dewpoint_c\\': 9.2, \\'dewpoint_f\\': 48.5, \\'vis_km\\': 10.0, \\'vis_miles\\': 6.0, \\'uv\\': 3.0, \\'gust_mph\\': 11.6, \\'gust_kph\\': 18.6}}\"}, {\\'url\\': \\'https://weatherspark.com/h/y/39878/2024/Historical-Weather-during-2024-in-Liverpool-United-Kingdom\\', \\'content\\': \\'Raw: EGGP 101250Z 31015KT 9999 FEW038 15/06 Q1015. This report shows the past weather for Liverpool, providing a weather history for 2024. It features all historical weather data series we have available, including the Liverpool temperature history for 2024. You can drill down from year to month and even day level reports by clicking on the graphs.\\'}]', name='tavily_search_results_json', id='b252d3b9-8b45-4f7e-8400-38032890909d', tool_call_id='call_DgERLtQNXfjLh3akxEAM64Sw'), AIMessage(content='The current weather in Liverpool is as follows:\\n- Temperature: 14.8°C (58.7°F)\\n- Condition: Cloudy\\n- Wind: 16.2 km/h from WNW\\n- Pressure: 1017.0 mb\\n- Humidity: 69%\\n- Visibility: 10.0 km\\n- UV Index: 3.0\\n\\nIf you need more detailed information, please let me know!', response_metadata={'finish_reason': 'stop', 'logprobs': None, 'model_name': 'gpt-3.5-turbo', 'system_fingerprint': None, 'token_usage': {'completion_tokens': 90, 'prompt_tokens': 715, 'total_tokens': 805}}, id='run-6b6c616e-094a-400a-bf02-cf600cd5fd15-0')]}, next=(), config={'configurable': {'thread_id': '1', 'thread_ts': '1ef2d6ef-8584-65a5-8003-b6ad2d42a0ef'}}, metadata={'source': 'loop', 'step': 3, 'writes': {'llm': {'messages': [AIMessage(content='The current weather in Liverpool is as follows:\\n- Temperature: 14.8°C (58.7°F)\\n- Condition: Cloudy\\n- Wind: 16.2 km/h from WNW\\n- Pressure: 1017.0 mb\\n- Humidity: 69%\\n- Visibility: 10.0 km\\n- UV Index: 3.0\\n\\nIf you need more detailed information, please let me know!', response_metadata={'finish_reason': 'stop', 'logprobs': None, 'model_name': 'gpt-3.5-turbo', 'system_fingerprint': None, 'token_usage': {'completion_tokens': 90, 'prompt_tokens': 715, 'total_tokens': 805}}, id='run-6b6c616e-094a-400a-bf02-cf600cd5fd15-0')]}}}, created_at='2024-06-18T12:33:30.796155+00:00', parent_config={'configurable': {'thread_id': '1', 'thread_ts': '1ef2d6ef-7016-63ce-8002-68e9fc690bf9'}})"
      ]
     },
     "execution_count": 17,
     "metadata": {},
     "output_type": "execute_result"
    }
   ],
   "source": [
    "abot.graph.get_state(thread)"
   ]
  },
  {
   "cell_type": "code",
   "execution_count": 21,
   "id": "6b2f82fe-3ec4-4917-be51-9fb10d1317fa",
   "metadata": {
    "height": 30
   },
   "outputs": [
    {
     "data": {
      "text/plain": [
       "('llm',)"
      ]
     },
     "execution_count": 21,
     "metadata": {},
     "output_type": "execute_result"
    }
   ],
   "source": [
    "abot.graph.get_state(thread).next"
   ]
  },
  {
   "cell_type": "markdown",
   "id": "7bbe5689-54ab-49ca-9055-6e5216abd523",
   "metadata": {},
   "source": [
    "## Modify State\n",
    "Run until the interrupt and then modify the state."
   ]
  },
  {
   "cell_type": "code",
   "execution_count": 23,
   "id": "ee0fe1c7-77e2-499c-a2f9-1f739bb6ddf0",
   "metadata": {
    "height": 251
   },
   "outputs": [
    {
     "name": "stdout",
     "output_type": "stream",
     "text": [
      "{'messages': [HumanMessage(content='Whats the weather in LA?', id='7ecb19b1-1a00-4442-9204-0e83e9647f7a'), AIMessage(content='', additional_kwargs={'tool_calls': [{'id': 'call_iG9jBI364rOsazH02AKn0GDD', 'function': {'arguments': '{\"query\":\"weather in Los Angeles\"}', 'name': 'tavily_search_results_json'}, 'type': 'function'}]}, response_metadata={'token_usage': {'completion_tokens': 21, 'prompt_tokens': 152, 'total_tokens': 173}, 'model_name': 'gpt-3.5-turbo', 'system_fingerprint': None, 'finish_reason': 'tool_calls', 'logprobs': None}, id='run-54e79a7d-e688-41d7-bc5c-3666b1764004-0', tool_calls=[{'name': 'tavily_search_results_json', 'args': {'query': 'weather in Los Angeles'}, 'id': 'call_iG9jBI364rOsazH02AKn0GDD'}])]}\n",
      "{'messages': [AIMessage(content='', additional_kwargs={'tool_calls': [{'id': 'call_iG9jBI364rOsazH02AKn0GDD', 'function': {'arguments': '{\"query\":\"weather in Los Angeles\"}', 'name': 'tavily_search_results_json'}, 'type': 'function'}]}, response_metadata={'token_usage': {'completion_tokens': 21, 'prompt_tokens': 152, 'total_tokens': 173}, 'model_name': 'gpt-3.5-turbo', 'system_fingerprint': None, 'finish_reason': 'tool_calls', 'logprobs': None}, id='run-54e79a7d-e688-41d7-bc5c-3666b1764004-0', tool_calls=[{'name': 'tavily_search_results_json', 'args': {'query': 'weather in Los Angeles'}, 'id': 'call_iG9jBI364rOsazH02AKn0GDD'}])]}\n",
      "\n",
      " StateSnapshot(values={'messages': [HumanMessage(content='Whats the weather in LA?', id='7ecb19b1-1a00-4442-9204-0e83e9647f7a'), AIMessage(content='', additional_kwargs={'tool_calls': [{'function': {'arguments': '{\"query\":\"weather in Los Angeles\"}', 'name': 'tavily_search_results_json'}, 'id': 'call_iG9jBI364rOsazH02AKn0GDD', 'type': 'function'}]}, response_metadata={'finish_reason': 'tool_calls', 'logprobs': None, 'model_name': 'gpt-3.5-turbo', 'system_fingerprint': None, 'token_usage': {'completion_tokens': 21, 'prompt_tokens': 152, 'total_tokens': 173}}, id='run-54e79a7d-e688-41d7-bc5c-3666b1764004-0', tool_calls=[{'name': 'tavily_search_results_json', 'args': {'query': 'weather in Los Angeles'}, 'id': 'call_iG9jBI364rOsazH02AKn0GDD'}])]}, next=('action',), config={'configurable': {'thread_id': '3', 'thread_ts': '1ef2d6f3-e4b0-6231-8001-8225e555ef0c'}}, metadata={'source': 'loop', 'step': 1, 'writes': {'llm': {'messages': [AIMessage(content='', additional_kwargs={'tool_calls': [{'function': {'arguments': '{\"query\":\"weather in Los Angeles\"}', 'name': 'tavily_search_results_json'}, 'id': 'call_iG9jBI364rOsazH02AKn0GDD', 'type': 'function'}]}, response_metadata={'finish_reason': 'tool_calls', 'logprobs': None, 'model_name': 'gpt-3.5-turbo', 'system_fingerprint': None, 'token_usage': {'completion_tokens': 21, 'prompt_tokens': 152, 'total_tokens': 173}}, id='run-54e79a7d-e688-41d7-bc5c-3666b1764004-0', tool_calls=[{'name': 'tavily_search_results_json', 'args': {'query': 'weather in Los Angeles'}, 'id': 'call_iG9jBI364rOsazH02AKn0GDD'}])]}}}, created_at='2024-06-18T12:35:28.149749+00:00', parent_config={'configurable': {'thread_id': '3', 'thread_ts': '1ef2d6f3-dcd8-6902-8000-83b3d7809be8'}}) \n",
      "\n",
      "proceed?y\n",
      "Calling: {'name': 'tavily_search_results_json', 'args': {'query': 'weather in Los Angeles'}, 'id': 'call_iG9jBI364rOsazH02AKn0GDD'}\n",
      "Back to the model!\n",
      "{'messages': [ToolMessage(content=\"HTTPError('502 Server Error: Bad Gateway for url: http://jupyter-api-proxy.internal.dlai/rev-proxy/tavily_search/search')\", name='tavily_search_results_json', id='f230b8a9-b9a6-462c-b168-b7530ecafc22', tool_call_id='call_iG9jBI364rOsazH02AKn0GDD')]}\n",
      "{'messages': [HumanMessage(content='Whats the weather in LA?', id='7ecb19b1-1a00-4442-9204-0e83e9647f7a'), AIMessage(content='', additional_kwargs={'tool_calls': [{'function': {'arguments': '{\"query\":\"weather in Los Angeles\"}', 'name': 'tavily_search_results_json'}, 'id': 'call_iG9jBI364rOsazH02AKn0GDD', 'type': 'function'}]}, response_metadata={'finish_reason': 'tool_calls', 'logprobs': None, 'model_name': 'gpt-3.5-turbo', 'system_fingerprint': None, 'token_usage': {'completion_tokens': 21, 'prompt_tokens': 152, 'total_tokens': 173}}, id='run-54e79a7d-e688-41d7-bc5c-3666b1764004-0', tool_calls=[{'name': 'tavily_search_results_json', 'args': {'query': 'weather in Los Angeles'}, 'id': 'call_iG9jBI364rOsazH02AKn0GDD'}]), ToolMessage(content=\"HTTPError('502 Server Error: Bad Gateway for url: http://jupyter-api-proxy.internal.dlai/rev-proxy/tavily_search/search')\", name='tavily_search_results_json', id='f230b8a9-b9a6-462c-b168-b7530ecafc22', tool_call_id='call_iG9jBI364rOsazH02AKn0GDD'), AIMessage(content='It seems there was an issue with retrieving the weather information for Los Angeles. Let me try again.', additional_kwargs={'tool_calls': [{'id': 'call_MCFYNCBcXzzUi0xEhpuvE9ax', 'function': {'arguments': '{\"query\":\"Los Angeles weather\"}', 'name': 'tavily_search_results_json'}, 'type': 'function'}]}, response_metadata={'token_usage': {'completion_tokens': 41, 'prompt_tokens': 216, 'total_tokens': 257}, 'model_name': 'gpt-3.5-turbo', 'system_fingerprint': None, 'finish_reason': 'tool_calls', 'logprobs': None}, id='run-9021613f-3e6c-43cf-a62d-b3918a9be7be-0', tool_calls=[{'name': 'tavily_search_results_json', 'args': {'query': 'Los Angeles weather'}, 'id': 'call_MCFYNCBcXzzUi0xEhpuvE9ax'}])]}\n",
      "{'messages': [AIMessage(content='It seems there was an issue with retrieving the weather information for Los Angeles. Let me try again.', additional_kwargs={'tool_calls': [{'id': 'call_MCFYNCBcXzzUi0xEhpuvE9ax', 'function': {'arguments': '{\"query\":\"Los Angeles weather\"}', 'name': 'tavily_search_results_json'}, 'type': 'function'}]}, response_metadata={'token_usage': {'completion_tokens': 41, 'prompt_tokens': 216, 'total_tokens': 257}, 'model_name': 'gpt-3.5-turbo', 'system_fingerprint': None, 'finish_reason': 'tool_calls', 'logprobs': None}, id='run-9021613f-3e6c-43cf-a62d-b3918a9be7be-0', tool_calls=[{'name': 'tavily_search_results_json', 'args': {'query': 'Los Angeles weather'}, 'id': 'call_MCFYNCBcXzzUi0xEhpuvE9ax'}])]}\n",
      "\n",
      " StateSnapshot(values={'messages': [HumanMessage(content='Whats the weather in LA?', id='7ecb19b1-1a00-4442-9204-0e83e9647f7a'), AIMessage(content='', additional_kwargs={'tool_calls': [{'function': {'arguments': '{\"query\":\"weather in Los Angeles\"}', 'name': 'tavily_search_results_json'}, 'id': 'call_iG9jBI364rOsazH02AKn0GDD', 'type': 'function'}]}, response_metadata={'finish_reason': 'tool_calls', 'logprobs': None, 'model_name': 'gpt-3.5-turbo', 'system_fingerprint': None, 'token_usage': {'completion_tokens': 21, 'prompt_tokens': 152, 'total_tokens': 173}}, id='run-54e79a7d-e688-41d7-bc5c-3666b1764004-0', tool_calls=[{'name': 'tavily_search_results_json', 'args': {'query': 'weather in Los Angeles'}, 'id': 'call_iG9jBI364rOsazH02AKn0GDD'}]), ToolMessage(content=\"HTTPError('502 Server Error: Bad Gateway for url: http://jupyter-api-proxy.internal.dlai/rev-proxy/tavily_search/search')\", name='tavily_search_results_json', id='f230b8a9-b9a6-462c-b168-b7530ecafc22', tool_call_id='call_iG9jBI364rOsazH02AKn0GDD'), AIMessage(content='It seems there was an issue with retrieving the weather information for Los Angeles. Let me try again.', additional_kwargs={'tool_calls': [{'function': {'arguments': '{\"query\":\"Los Angeles weather\"}', 'name': 'tavily_search_results_json'}, 'id': 'call_MCFYNCBcXzzUi0xEhpuvE9ax', 'type': 'function'}]}, response_metadata={'finish_reason': 'tool_calls', 'logprobs': None, 'model_name': 'gpt-3.5-turbo', 'system_fingerprint': None, 'token_usage': {'completion_tokens': 41, 'prompt_tokens': 216, 'total_tokens': 257}}, id='run-9021613f-3e6c-43cf-a62d-b3918a9be7be-0', tool_calls=[{'name': 'tavily_search_results_json', 'args': {'query': 'Los Angeles weather'}, 'id': 'call_MCFYNCBcXzzUi0xEhpuvE9ax'}])]}, next=('action',), config={'configurable': {'thread_id': '3', 'thread_ts': '1ef2d6f4-ad6b-66d3-8003-d85925a0c465'}}, metadata={'source': 'loop', 'step': 3, 'writes': {'llm': {'messages': [AIMessage(content='It seems there was an issue with retrieving the weather information for Los Angeles. Let me try again.', additional_kwargs={'tool_calls': [{'function': {'arguments': '{\"query\":\"Los Angeles weather\"}', 'name': 'tavily_search_results_json'}, 'id': 'call_MCFYNCBcXzzUi0xEhpuvE9ax', 'type': 'function'}]}, response_metadata={'finish_reason': 'tool_calls', 'logprobs': None, 'model_name': 'gpt-3.5-turbo', 'system_fingerprint': None, 'token_usage': {'completion_tokens': 41, 'prompt_tokens': 216, 'total_tokens': 257}}, id='run-9021613f-3e6c-43cf-a62d-b3918a9be7be-0', tool_calls=[{'name': 'tavily_search_results_json', 'args': {'query': 'Los Angeles weather'}, 'id': 'call_MCFYNCBcXzzUi0xEhpuvE9ax'}])]}}}, created_at='2024-06-18T12:35:49.197981+00:00', parent_config={'configurable': {'thread_id': '3', 'thread_ts': '1ef2d6f4-a152-60ff-8002-44dc24db7014'}}) \n",
      "\n"
     ]
    },
    {
     "name": "stdout",
     "output_type": "stream",
     "text": [
      "proceed?y\n",
      "Calling: {'name': 'tavily_search_results_json', 'args': {'query': 'Los Angeles weather'}, 'id': 'call_MCFYNCBcXzzUi0xEhpuvE9ax'}\n",
      "Back to the model!\n",
      "{'messages': [ToolMessage(content='[{\\'url\\': \\'https://www.weatherapi.com/\\', \\'content\\': \"{\\'location\\': {\\'name\\': \\'Los Angeles\\', \\'region\\': \\'California\\', \\'country\\': \\'United States of America\\', \\'lat\\': 34.05, \\'lon\\': -118.24, \\'tz_id\\': \\'America/Los_Angeles\\', \\'localtime_epoch\\': 1718714099, \\'localtime\\': \\'2024-06-18 5:34\\'}, \\'current\\': {\\'last_updated_epoch\\': 1718713800, \\'last_updated\\': \\'2024-06-18 05:30\\', \\'temp_c\\': 17.8, \\'temp_f\\': 64.0, \\'is_day\\': 0, \\'condition\\': {\\'text\\': \\'Clear\\', \\'icon\\': \\'//cdn.weatherapi.com/weather/64x64/night/113.png\\', \\'code\\': 1000}, \\'wind_mph\\': 3.6, \\'wind_kph\\': 5.8, \\'wind_degree\\': 179, \\'wind_dir\\': \\'S\\', \\'pressure_mb\\': 1007.0, \\'pressure_in\\': 29.72, \\'precip_mm\\': 0.0, \\'precip_in\\': 0.0, \\'humidity\\': 66, \\'cloud\\': 0, \\'feelslike_c\\': 17.8, \\'feelslike_f\\': 64.0, \\'windchill_c\\': 17.8, \\'windchill_f\\': 64.0, \\'heatindex_c\\': 17.8, \\'heatindex_f\\': 64.0, \\'dewpoint_c\\': 11.4, \\'dewpoint_f\\': 52.5, \\'vis_km\\': 10.0, \\'vis_miles\\': 6.0, \\'uv\\': 1.0, \\'gust_mph\\': 4.9, \\'gust_kph\\': 8.0}}\"}, {\\'url\\': \\'https://www.weathertab.com/en/c/e/06/united-states/california/los-angeles/\\', \\'content\\': \\'Avg High Temps 75 to 85 °F. Avg Low Temps 50 to 60 °F. Explore comprehensive June 2024 weather forecasts for Los Angeles, including daily high and low temperatures, precipitation risks, and monthly temperature trends. Featuring detailed day-by-day forecasts, dynamic graphs of daily rain probabilities, and temperature trends to help you plan ...\\'}]', name='tavily_search_results_json', id='4e379f11-89a1-4981-a529-69a30ee96df2', tool_call_id='call_MCFYNCBcXzzUi0xEhpuvE9ax')]}\n",
      "{'messages': [HumanMessage(content='Whats the weather in LA?', id='7ecb19b1-1a00-4442-9204-0e83e9647f7a'), AIMessage(content='', additional_kwargs={'tool_calls': [{'function': {'arguments': '{\"query\":\"weather in Los Angeles\"}', 'name': 'tavily_search_results_json'}, 'id': 'call_iG9jBI364rOsazH02AKn0GDD', 'type': 'function'}]}, response_metadata={'finish_reason': 'tool_calls', 'logprobs': None, 'model_name': 'gpt-3.5-turbo', 'system_fingerprint': None, 'token_usage': {'completion_tokens': 21, 'prompt_tokens': 152, 'total_tokens': 173}}, id='run-54e79a7d-e688-41d7-bc5c-3666b1764004-0', tool_calls=[{'name': 'tavily_search_results_json', 'args': {'query': 'weather in Los Angeles'}, 'id': 'call_iG9jBI364rOsazH02AKn0GDD'}]), ToolMessage(content=\"HTTPError('502 Server Error: Bad Gateway for url: http://jupyter-api-proxy.internal.dlai/rev-proxy/tavily_search/search')\", name='tavily_search_results_json', id='f230b8a9-b9a6-462c-b168-b7530ecafc22', tool_call_id='call_iG9jBI364rOsazH02AKn0GDD'), AIMessage(content='It seems there was an issue with retrieving the weather information for Los Angeles. Let me try again.', additional_kwargs={'tool_calls': [{'function': {'arguments': '{\"query\":\"Los Angeles weather\"}', 'name': 'tavily_search_results_json'}, 'id': 'call_MCFYNCBcXzzUi0xEhpuvE9ax', 'type': 'function'}]}, response_metadata={'finish_reason': 'tool_calls', 'logprobs': None, 'model_name': 'gpt-3.5-turbo', 'system_fingerprint': None, 'token_usage': {'completion_tokens': 41, 'prompt_tokens': 216, 'total_tokens': 257}}, id='run-9021613f-3e6c-43cf-a62d-b3918a9be7be-0', tool_calls=[{'name': 'tavily_search_results_json', 'args': {'query': 'Los Angeles weather'}, 'id': 'call_MCFYNCBcXzzUi0xEhpuvE9ax'}]), ToolMessage(content='[{\\'url\\': \\'https://www.weatherapi.com/\\', \\'content\\': \"{\\'location\\': {\\'name\\': \\'Los Angeles\\', \\'region\\': \\'California\\', \\'country\\': \\'United States of America\\', \\'lat\\': 34.05, \\'lon\\': -118.24, \\'tz_id\\': \\'America/Los_Angeles\\', \\'localtime_epoch\\': 1718714099, \\'localtime\\': \\'2024-06-18 5:34\\'}, \\'current\\': {\\'last_updated_epoch\\': 1718713800, \\'last_updated\\': \\'2024-06-18 05:30\\', \\'temp_c\\': 17.8, \\'temp_f\\': 64.0, \\'is_day\\': 0, \\'condition\\': {\\'text\\': \\'Clear\\', \\'icon\\': \\'//cdn.weatherapi.com/weather/64x64/night/113.png\\', \\'code\\': 1000}, \\'wind_mph\\': 3.6, \\'wind_kph\\': 5.8, \\'wind_degree\\': 179, \\'wind_dir\\': \\'S\\', \\'pressure_mb\\': 1007.0, \\'pressure_in\\': 29.72, \\'precip_mm\\': 0.0, \\'precip_in\\': 0.0, \\'humidity\\': 66, \\'cloud\\': 0, \\'feelslike_c\\': 17.8, \\'feelslike_f\\': 64.0, \\'windchill_c\\': 17.8, \\'windchill_f\\': 64.0, \\'heatindex_c\\': 17.8, \\'heatindex_f\\': 64.0, \\'dewpoint_c\\': 11.4, \\'dewpoint_f\\': 52.5, \\'vis_km\\': 10.0, \\'vis_miles\\': 6.0, \\'uv\\': 1.0, \\'gust_mph\\': 4.9, \\'gust_kph\\': 8.0}}\"}, {\\'url\\': \\'https://www.weathertab.com/en/c/e/06/united-states/california/los-angeles/\\', \\'content\\': \\'Avg High Temps 75 to 85 °F. Avg Low Temps 50 to 60 °F. Explore comprehensive June 2024 weather forecasts for Los Angeles, including daily high and low temperatures, precipitation risks, and monthly temperature trends. Featuring detailed day-by-day forecasts, dynamic graphs of daily rain probabilities, and temperature trends to help you plan ...\\'}]', name='tavily_search_results_json', id='4e379f11-89a1-4981-a529-69a30ee96df2', tool_call_id='call_MCFYNCBcXzzUi0xEhpuvE9ax'), AIMessage(content='The current weather in Los Angeles is 64.0°F with clear skies. The wind speed is 5.8 km/h coming from the south. The humidity is at 66%, and there is no precipitation at the moment.', response_metadata={'token_usage': {'completion_tokens': 48, 'prompt_tokens': 786, 'total_tokens': 834}, 'model_name': 'gpt-3.5-turbo', 'system_fingerprint': None, 'finish_reason': 'stop', 'logprobs': None}, id='run-291ac818-c0a3-403a-bb74-b23b4baeaee0-0')]}\n",
      "{'messages': [AIMessage(content='The current weather in Los Angeles is 64.0°F with clear skies. The wind speed is 5.8 km/h coming from the south. The humidity is at 66%, and there is no precipitation at the moment.', response_metadata={'token_usage': {'completion_tokens': 48, 'prompt_tokens': 786, 'total_tokens': 834}, 'model_name': 'gpt-3.5-turbo', 'system_fingerprint': None, 'finish_reason': 'stop', 'logprobs': None}, id='run-291ac818-c0a3-403a-bb74-b23b4baeaee0-0')]}\n"
     ]
    }
   ],
   "source": [
    "messages = [HumanMessage(\"Whats the weather in LA?\")]\n",
    "thread = {\"configurable\": {\"thread_id\": \"3\"}}\n",
    "for event in abot.graph.stream({\"messages\": messages}, thread):\n",
    "    for v in event.values():\n",
    "        print(v)\n",
    "while abot.graph.get_state(thread).next:\n",
    "    print(\"\\n\", abot.graph.get_state(thread),\"\\n\")\n",
    "    _input = input(\"proceed?\")\n",
    "    if _input != \"y\":\n",
    "        print(\"aborting\")\n",
    "        break\n",
    "    for event in abot.graph.stream(None, thread):\n",
    "        for v in event.values():\n",
    "            print(v)"
   ]
  },
  {
   "cell_type": "code",
   "execution_count": 24,
   "id": "98f303b1-a4d0-408c-8cc0-515ff980717f",
   "metadata": {
    "height": 98
   },
   "outputs": [
    {
     "name": "stdout",
     "output_type": "stream",
     "text": [
      "{'messages': [HumanMessage(content='Whats the weather in Cumilla?', id='70b4e069-47bc-4f50-901c-2130076722db'), AIMessage(content='', additional_kwargs={'tool_calls': [{'id': 'call_Mph7rLxs1foZZwTYLXS4CWqI', 'function': {'arguments': '{\"query\":\"weather in Cumilla\"}', 'name': 'tavily_search_results_json'}, 'type': 'function'}]}, response_metadata={'token_usage': {'completion_tokens': 21, 'prompt_tokens': 153, 'total_tokens': 174}, 'model_name': 'gpt-3.5-turbo', 'system_fingerprint': None, 'finish_reason': 'tool_calls', 'logprobs': None}, id='run-a949c665-bf1f-4038-ac94-ff24eb405d6f-0', tool_calls=[{'name': 'tavily_search_results_json', 'args': {'query': 'weather in Cumilla'}, 'id': 'call_Mph7rLxs1foZZwTYLXS4CWqI'}])]}\n",
      "{'messages': [AIMessage(content='', additional_kwargs={'tool_calls': [{'id': 'call_Mph7rLxs1foZZwTYLXS4CWqI', 'function': {'arguments': '{\"query\":\"weather in Cumilla\"}', 'name': 'tavily_search_results_json'}, 'type': 'function'}]}, response_metadata={'token_usage': {'completion_tokens': 21, 'prompt_tokens': 153, 'total_tokens': 174}, 'model_name': 'gpt-3.5-turbo', 'system_fingerprint': None, 'finish_reason': 'tool_calls', 'logprobs': None}, id='run-a949c665-bf1f-4038-ac94-ff24eb405d6f-0', tool_calls=[{'name': 'tavily_search_results_json', 'args': {'query': 'weather in Cumilla'}, 'id': 'call_Mph7rLxs1foZZwTYLXS4CWqI'}])]}\n"
     ]
    }
   ],
   "source": [
    "messages = [HumanMessage(\"Whats the weather in Cumilla?\")]\n",
    "thread = {\"configurable\": {\"thread_id\": \"4\"}}\n",
    "for event in abot.graph.stream({\"messages\": messages}, thread):\n",
    "    for v in event.values():\n",
    "        print(v)"
   ]
  },
  {
   "cell_type": "code",
   "execution_count": 25,
   "id": "bf4dcb93-6298-4cfd-b3ce-61dfac7fb35f",
   "metadata": {
    "height": 30
   },
   "outputs": [
    {
     "data": {
      "text/plain": [
       "StateSnapshot(values={'messages': [HumanMessage(content='Whats the weather in Cumilla?', id='70b4e069-47bc-4f50-901c-2130076722db'), AIMessage(content='', additional_kwargs={'tool_calls': [{'function': {'arguments': '{\"query\":\"weather in Cumilla\"}', 'name': 'tavily_search_results_json'}, 'id': 'call_Mph7rLxs1foZZwTYLXS4CWqI', 'type': 'function'}]}, response_metadata={'finish_reason': 'tool_calls', 'logprobs': None, 'model_name': 'gpt-3.5-turbo', 'system_fingerprint': None, 'token_usage': {'completion_tokens': 21, 'prompt_tokens': 153, 'total_tokens': 174}}, id='run-a949c665-bf1f-4038-ac94-ff24eb405d6f-0', tool_calls=[{'name': 'tavily_search_results_json', 'args': {'query': 'weather in Cumilla'}, 'id': 'call_Mph7rLxs1foZZwTYLXS4CWqI'}])]}, next=('action',), config={'configurable': {'thread_id': '4', 'thread_ts': '1ef2d701-0d39-6ae3-8001-9e03ed1258fb'}}, metadata={'source': 'loop', 'step': 1, 'writes': {'llm': {'messages': [AIMessage(content='', additional_kwargs={'tool_calls': [{'function': {'arguments': '{\"query\":\"weather in Cumilla\"}', 'name': 'tavily_search_results_json'}, 'id': 'call_Mph7rLxs1foZZwTYLXS4CWqI', 'type': 'function'}]}, response_metadata={'finish_reason': 'tool_calls', 'logprobs': None, 'model_name': 'gpt-3.5-turbo', 'system_fingerprint': None, 'token_usage': {'completion_tokens': 21, 'prompt_tokens': 153, 'total_tokens': 174}}, id='run-a949c665-bf1f-4038-ac94-ff24eb405d6f-0', tool_calls=[{'name': 'tavily_search_results_json', 'args': {'query': 'weather in Cumilla'}, 'id': 'call_Mph7rLxs1foZZwTYLXS4CWqI'}])]}}}, created_at='2024-06-18T12:41:21.366480+00:00', parent_config={'configurable': {'thread_id': '4', 'thread_ts': '1ef2d701-060c-6b15-8000-b5b1866da76a'}})"
      ]
     },
     "execution_count": 25,
     "metadata": {},
     "output_type": "execute_result"
    }
   ],
   "source": [
    "abot.graph.get_state(thread)"
   ]
  },
  {
   "cell_type": "code",
   "execution_count": 26,
   "id": "932883a4-c722-42bb-aec0-b4f41c5c81a4",
   "metadata": {
    "height": 30
   },
   "outputs": [],
   "source": [
    "current_values = abot.graph.get_state(thread)"
   ]
  },
  {
   "cell_type": "code",
   "execution_count": 27,
   "id": "ff362f49-dcf1-4ea1-a86c-e516e9ab897d",
   "metadata": {
    "height": 30
   },
   "outputs": [
    {
     "data": {
      "text/plain": [
       "AIMessage(content='', additional_kwargs={'tool_calls': [{'function': {'arguments': '{\"query\":\"weather in Cumilla\"}', 'name': 'tavily_search_results_json'}, 'id': 'call_Mph7rLxs1foZZwTYLXS4CWqI', 'type': 'function'}]}, response_metadata={'finish_reason': 'tool_calls', 'logprobs': None, 'model_name': 'gpt-3.5-turbo', 'system_fingerprint': None, 'token_usage': {'completion_tokens': 21, 'prompt_tokens': 153, 'total_tokens': 174}}, id='run-a949c665-bf1f-4038-ac94-ff24eb405d6f-0', tool_calls=[{'name': 'tavily_search_results_json', 'args': {'query': 'weather in Cumilla'}, 'id': 'call_Mph7rLxs1foZZwTYLXS4CWqI'}])"
      ]
     },
     "execution_count": 27,
     "metadata": {},
     "output_type": "execute_result"
    }
   ],
   "source": [
    "current_values.values['messages'][-1]"
   ]
  },
  {
   "cell_type": "code",
   "execution_count": 28,
   "id": "a7e15a20-83d7-434c-8551-bce8dcc32be0",
   "metadata": {
    "height": 30
   },
   "outputs": [
    {
     "data": {
      "text/plain": [
       "[{'name': 'tavily_search_results_json',\n",
       "  'args': {'query': 'weather in Cumilla'},\n",
       "  'id': 'call_Mph7rLxs1foZZwTYLXS4CWqI'}]"
      ]
     },
     "execution_count": 28,
     "metadata": {},
     "output_type": "execute_result"
    }
   ],
   "source": [
    "current_values.values['messages'][-1].tool_calls"
   ]
  },
  {
   "cell_type": "code",
   "execution_count": 29,
   "id": "54ab2c74-f32e-490c-a85d-932d11444210",
   "metadata": {
    "height": 115
   },
   "outputs": [],
   "source": [
    "_id = current_values.values['messages'][-1].tool_calls[0]['id']\n",
    "current_values.values['messages'][-1].tool_calls = [\n",
    "    {'name': 'tavily_search_results_json',\n",
    "  'args': {'query': 'current weather in Louisiana'},\n",
    "  'id': _id}\n",
    "]"
   ]
  },
  {
   "cell_type": "code",
   "execution_count": 30,
   "id": "a833d3ce-bd31-4319-811d-decff226b970",
   "metadata": {
    "height": 30
   },
   "outputs": [
    {
     "name": "stdout",
     "output_type": "stream",
     "text": [
      "{'messages': [HumanMessage(content='Whats the weather in Cumilla?', id='70b4e069-47bc-4f50-901c-2130076722db'), AIMessage(content='', additional_kwargs={'tool_calls': [{'function': {'arguments': '{\"query\":\"weather in Cumilla\"}', 'name': 'tavily_search_results_json'}, 'id': 'call_Mph7rLxs1foZZwTYLXS4CWqI', 'type': 'function'}]}, response_metadata={'finish_reason': 'tool_calls', 'logprobs': None, 'model_name': 'gpt-3.5-turbo', 'system_fingerprint': None, 'token_usage': {'completion_tokens': 21, 'prompt_tokens': 153, 'total_tokens': 174}}, id='run-a949c665-bf1f-4038-ac94-ff24eb405d6f-0', tool_calls=[{'name': 'tavily_search_results_json', 'args': {'query': 'current weather in Louisiana'}, 'id': 'call_Mph7rLxs1foZZwTYLXS4CWqI'}])]}\n"
     ]
    },
    {
     "data": {
      "text/plain": [
       "{'configurable': {'thread_id': '4',\n",
       "  'thread_ts': '1ef2d704-a7f1-67ea-8002-d4a68a68787c'}}"
      ]
     },
     "execution_count": 30,
     "metadata": {},
     "output_type": "execute_result"
    }
   ],
   "source": [
    "abot.graph.update_state(thread, current_values.values)"
   ]
  },
  {
   "cell_type": "code",
   "execution_count": 31,
   "id": "76e93cce-6eab-4c7c-ac64-e9993fdb30d6",
   "metadata": {
    "height": 30
   },
   "outputs": [
    {
     "data": {
      "text/plain": [
       "StateSnapshot(values={'messages': [HumanMessage(content='Whats the weather in Cumilla?', id='70b4e069-47bc-4f50-901c-2130076722db'), AIMessage(content='', additional_kwargs={'tool_calls': [{'function': {'arguments': '{\"query\":\"weather in Cumilla\"}', 'name': 'tavily_search_results_json'}, 'id': 'call_Mph7rLxs1foZZwTYLXS4CWqI', 'type': 'function'}]}, response_metadata={'finish_reason': 'tool_calls', 'logprobs': None, 'model_name': 'gpt-3.5-turbo', 'system_fingerprint': None, 'token_usage': {'completion_tokens': 21, 'prompt_tokens': 153, 'total_tokens': 174}}, id='run-a949c665-bf1f-4038-ac94-ff24eb405d6f-0', tool_calls=[{'name': 'tavily_search_results_json', 'args': {'query': 'current weather in Louisiana'}, 'id': 'call_Mph7rLxs1foZZwTYLXS4CWqI'}])]}, next=('action',), config={'configurable': {'thread_id': '4', 'thread_ts': '1ef2d704-a7f1-67ea-8002-d4a68a68787c'}}, metadata={'source': 'update', 'step': 2, 'writes': {'llm': {'messages': [HumanMessage(content='Whats the weather in Cumilla?', id='70b4e069-47bc-4f50-901c-2130076722db'), AIMessage(content='', additional_kwargs={'tool_calls': [{'function': {'arguments': '{\"query\":\"weather in Cumilla\"}', 'name': 'tavily_search_results_json'}, 'id': 'call_Mph7rLxs1foZZwTYLXS4CWqI', 'type': 'function'}]}, response_metadata={'finish_reason': 'tool_calls', 'logprobs': None, 'model_name': 'gpt-3.5-turbo', 'system_fingerprint': None, 'token_usage': {'completion_tokens': 21, 'prompt_tokens': 153, 'total_tokens': 174}}, id='run-a949c665-bf1f-4038-ac94-ff24eb405d6f-0', tool_calls=[{'name': 'tavily_search_results_json', 'args': {'query': 'current weather in Louisiana'}, 'id': 'call_Mph7rLxs1foZZwTYLXS4CWqI'}])]}}}, created_at='2024-06-18T12:42:58.120485+00:00', parent_config={'configurable': {'thread_id': '4', 'thread_ts': '1ef2d701-0d39-6ae3-8001-9e03ed1258fb'}})"
      ]
     },
     "execution_count": 31,
     "metadata": {},
     "output_type": "execute_result"
    }
   ],
   "source": [
    "abot.graph.get_state(thread)"
   ]
  },
  {
   "cell_type": "code",
   "execution_count": 32,
   "id": "fd2d0990-a932-423f-9ff3-5cada58c5f32",
   "metadata": {
    "height": 64
   },
   "outputs": [
    {
     "name": "stdout",
     "output_type": "stream",
     "text": [
      "Calling: {'name': 'tavily_search_results_json', 'args': {'query': 'current weather in Louisiana'}, 'id': 'call_Mph7rLxs1foZZwTYLXS4CWqI'}\n",
      "Back to the model!\n",
      "{'messages': [ToolMessage(content='[{\\'url\\': \\'https://www.weatherapi.com/\\', \\'content\\': \"{\\'location\\': {\\'name\\': \\'Louisiana\\', \\'region\\': \\'Missouri\\', \\'country\\': \\'USA United States of America\\', \\'lat\\': 39.44, \\'lon\\': -91.06, \\'tz_id\\': \\'America/Chicago\\', \\'localtime_epoch\\': 1718714562, \\'localtime\\': \\'2024-06-18 7:42\\'}, \\'current\\': {\\'last_updated_epoch\\': 1718713800, \\'last_updated\\': \\'2024-06-18 07:30\\', \\'temp_c\\': 24.5, \\'temp_f\\': 76.1, \\'is_day\\': 1, \\'condition\\': {\\'text\\': \\'Partly cloudy\\', \\'icon\\': \\'//cdn.weatherapi.com/weather/64x64/day/116.png\\', \\'code\\': 1003}, \\'wind_mph\\': 13.6, \\'wind_kph\\': 22.0, \\'wind_degree\\': 170, \\'wind_dir\\': \\'S\\', \\'pressure_mb\\': 1015.0, \\'pressure_in\\': 29.96, \\'precip_mm\\': 0.0, \\'precip_in\\': 0.0, \\'humidity\\': 82, \\'cloud\\': 50, \\'feelslike_c\\': 27.0, \\'feelslike_f\\': 80.5, \\'windchill_c\\': 23.0, \\'windchill_f\\': 73.4, \\'heatindex_c\\': 25.3, \\'heatindex_f\\': 77.6, \\'dewpoint_c\\': 20.6, \\'dewpoint_f\\': 69.1, \\'vis_km\\': 16.0, \\'vis_miles\\': 9.0, \\'uv\\': 6.0, \\'gust_mph\\': 16.8, \\'gust_kph\\': 27.0}}\"}, {\\'url\\': \\'https://www.kplctv.com/2024/06/18/first-alert-forecast-keeping-regular-showers-swla-potential-tropical-cyclone-one-heads-mexico/\\', \\'content\\': \\'First Alert Forecast (KPLC). The National Hurricane Center has declared the system in the Gulf that we have been monitoring as Potential Tropical Cyclone One, this simply means it COULD become a system before landfall and with landfall likely within the next few days tropical storm watches will be issued to give folks in the path a heads up.\\'}]', name='tavily_search_results_json', id='4aa3ca35-9b7a-443c-afa4-f7f1a0e3e801', tool_call_id='call_Mph7rLxs1foZZwTYLXS4CWqI')]}\n",
      "{'messages': [HumanMessage(content='Whats the weather in Cumilla?', id='70b4e069-47bc-4f50-901c-2130076722db'), AIMessage(content='', additional_kwargs={'tool_calls': [{'function': {'arguments': '{\"query\":\"weather in Cumilla\"}', 'name': 'tavily_search_results_json'}, 'id': 'call_Mph7rLxs1foZZwTYLXS4CWqI', 'type': 'function'}]}, response_metadata={'finish_reason': 'tool_calls', 'logprobs': None, 'model_name': 'gpt-3.5-turbo', 'system_fingerprint': None, 'token_usage': {'completion_tokens': 21, 'prompt_tokens': 153, 'total_tokens': 174}}, id='run-a949c665-bf1f-4038-ac94-ff24eb405d6f-0', tool_calls=[{'name': 'tavily_search_results_json', 'args': {'query': 'current weather in Louisiana'}, 'id': 'call_Mph7rLxs1foZZwTYLXS4CWqI'}]), ToolMessage(content='[{\\'url\\': \\'https://www.weatherapi.com/\\', \\'content\\': \"{\\'location\\': {\\'name\\': \\'Louisiana\\', \\'region\\': \\'Missouri\\', \\'country\\': \\'USA United States of America\\', \\'lat\\': 39.44, \\'lon\\': -91.06, \\'tz_id\\': \\'America/Chicago\\', \\'localtime_epoch\\': 1718714562, \\'localtime\\': \\'2024-06-18 7:42\\'}, \\'current\\': {\\'last_updated_epoch\\': 1718713800, \\'last_updated\\': \\'2024-06-18 07:30\\', \\'temp_c\\': 24.5, \\'temp_f\\': 76.1, \\'is_day\\': 1, \\'condition\\': {\\'text\\': \\'Partly cloudy\\', \\'icon\\': \\'//cdn.weatherapi.com/weather/64x64/day/116.png\\', \\'code\\': 1003}, \\'wind_mph\\': 13.6, \\'wind_kph\\': 22.0, \\'wind_degree\\': 170, \\'wind_dir\\': \\'S\\', \\'pressure_mb\\': 1015.0, \\'pressure_in\\': 29.96, \\'precip_mm\\': 0.0, \\'precip_in\\': 0.0, \\'humidity\\': 82, \\'cloud\\': 50, \\'feelslike_c\\': 27.0, \\'feelslike_f\\': 80.5, \\'windchill_c\\': 23.0, \\'windchill_f\\': 73.4, \\'heatindex_c\\': 25.3, \\'heatindex_f\\': 77.6, \\'dewpoint_c\\': 20.6, \\'dewpoint_f\\': 69.1, \\'vis_km\\': 16.0, \\'vis_miles\\': 9.0, \\'uv\\': 6.0, \\'gust_mph\\': 16.8, \\'gust_kph\\': 27.0}}\"}, {\\'url\\': \\'https://www.kplctv.com/2024/06/18/first-alert-forecast-keeping-regular-showers-swla-potential-tropical-cyclone-one-heads-mexico/\\', \\'content\\': \\'First Alert Forecast (KPLC). The National Hurricane Center has declared the system in the Gulf that we have been monitoring as Potential Tropical Cyclone One, this simply means it COULD become a system before landfall and with landfall likely within the next few days tropical storm watches will be issued to give folks in the path a heads up.\\'}]', name='tavily_search_results_json', id='4aa3ca35-9b7a-443c-afa4-f7f1a0e3e801', tool_call_id='call_Mph7rLxs1foZZwTYLXS4CWqI'), AIMessage(content='I found information about the current weather in Louisiana, not Cumilla. The current weather in Louisiana is partly cloudy with a temperature of 76.1°F. If you would like, I can search for the weather in Cumilla specifically.', response_metadata={'token_usage': {'completion_tokens': 49, 'prompt_tokens': 714, 'total_tokens': 763}, 'model_name': 'gpt-3.5-turbo', 'system_fingerprint': None, 'finish_reason': 'stop', 'logprobs': None}, id='run-d71cf98c-c5e6-4861-91b5-c6c2d64541ce-0')]}\n",
      "{'messages': [AIMessage(content='I found information about the current weather in Louisiana, not Cumilla. The current weather in Louisiana is partly cloudy with a temperature of 76.1°F. If you would like, I can search for the weather in Cumilla specifically.', response_metadata={'token_usage': {'completion_tokens': 49, 'prompt_tokens': 714, 'total_tokens': 763}, 'model_name': 'gpt-3.5-turbo', 'system_fingerprint': None, 'finish_reason': 'stop', 'logprobs': None}, id='run-d71cf98c-c5e6-4861-91b5-c6c2d64541ce-0')]}\n"
     ]
    }
   ],
   "source": [
    "for event in abot.graph.stream(None, thread):\n",
    "    for v in event.values():\n",
    "        print(v)"
   ]
  },
  {
   "cell_type": "markdown",
   "id": "e75b870b-e0df-46f1-b29b-fb151ebcbcc3",
   "metadata": {},
   "source": [
    "## Time Travel"
   ]
  },
  {
   "cell_type": "code",
   "execution_count": 33,
   "id": "27cde654-64e2-48bc-80a9-0ed668ccb7dc",
   "metadata": {
    "height": 98
   },
   "outputs": [
    {
     "name": "stdout",
     "output_type": "stream",
     "text": [
      "StateSnapshot(values={'messages': [HumanMessage(content='Whats the weather in Cumilla?', id='70b4e069-47bc-4f50-901c-2130076722db'), AIMessage(content='', additional_kwargs={'tool_calls': [{'function': {'arguments': '{\"query\":\"weather in Cumilla\"}', 'name': 'tavily_search_results_json'}, 'id': 'call_Mph7rLxs1foZZwTYLXS4CWqI', 'type': 'function'}]}, response_metadata={'finish_reason': 'tool_calls', 'logprobs': None, 'model_name': 'gpt-3.5-turbo', 'system_fingerprint': None, 'token_usage': {'completion_tokens': 21, 'prompt_tokens': 153, 'total_tokens': 174}}, id='run-a949c665-bf1f-4038-ac94-ff24eb405d6f-0', tool_calls=[{'name': 'tavily_search_results_json', 'args': {'query': 'current weather in Louisiana'}, 'id': 'call_Mph7rLxs1foZZwTYLXS4CWqI'}]), ToolMessage(content='[{\\'url\\': \\'https://www.weatherapi.com/\\', \\'content\\': \"{\\'location\\': {\\'name\\': \\'Louisiana\\', \\'region\\': \\'Missouri\\', \\'country\\': \\'USA United States of America\\', \\'lat\\': 39.44, \\'lon\\': -91.06, \\'tz_id\\': \\'America/Chicago\\', \\'localtime_epoch\\': 1718714562, \\'localtime\\': \\'2024-06-18 7:42\\'}, \\'current\\': {\\'last_updated_epoch\\': 1718713800, \\'last_updated\\': \\'2024-06-18 07:30\\', \\'temp_c\\': 24.5, \\'temp_f\\': 76.1, \\'is_day\\': 1, \\'condition\\': {\\'text\\': \\'Partly cloudy\\', \\'icon\\': \\'//cdn.weatherapi.com/weather/64x64/day/116.png\\', \\'code\\': 1003}, \\'wind_mph\\': 13.6, \\'wind_kph\\': 22.0, \\'wind_degree\\': 170, \\'wind_dir\\': \\'S\\', \\'pressure_mb\\': 1015.0, \\'pressure_in\\': 29.96, \\'precip_mm\\': 0.0, \\'precip_in\\': 0.0, \\'humidity\\': 82, \\'cloud\\': 50, \\'feelslike_c\\': 27.0, \\'feelslike_f\\': 80.5, \\'windchill_c\\': 23.0, \\'windchill_f\\': 73.4, \\'heatindex_c\\': 25.3, \\'heatindex_f\\': 77.6, \\'dewpoint_c\\': 20.6, \\'dewpoint_f\\': 69.1, \\'vis_km\\': 16.0, \\'vis_miles\\': 9.0, \\'uv\\': 6.0, \\'gust_mph\\': 16.8, \\'gust_kph\\': 27.0}}\"}, {\\'url\\': \\'https://www.kplctv.com/2024/06/18/first-alert-forecast-keeping-regular-showers-swla-potential-tropical-cyclone-one-heads-mexico/\\', \\'content\\': \\'First Alert Forecast (KPLC). The National Hurricane Center has declared the system in the Gulf that we have been monitoring as Potential Tropical Cyclone One, this simply means it COULD become a system before landfall and with landfall likely within the next few days tropical storm watches will be issued to give folks in the path a heads up.\\'}]', name='tavily_search_results_json', id='4aa3ca35-9b7a-443c-afa4-f7f1a0e3e801', tool_call_id='call_Mph7rLxs1foZZwTYLXS4CWqI'), AIMessage(content='I found information about the current weather in Louisiana, not Cumilla. The current weather in Louisiana is partly cloudy with a temperature of 76.1°F. If you would like, I can search for the weather in Cumilla specifically.', response_metadata={'finish_reason': 'stop', 'logprobs': None, 'model_name': 'gpt-3.5-turbo', 'system_fingerprint': None, 'token_usage': {'completion_tokens': 49, 'prompt_tokens': 714, 'total_tokens': 763}}, id='run-d71cf98c-c5e6-4861-91b5-c6c2d64541ce-0')]}, next=(), config={'configurable': {'thread_id': '4', 'thread_ts': '1ef2d705-f13b-624d-8004-b4598544b20e'}}, metadata={'source': 'loop', 'step': 4, 'writes': {'llm': {'messages': [AIMessage(content='I found information about the current weather in Louisiana, not Cumilla. The current weather in Louisiana is partly cloudy with a temperature of 76.1°F. If you would like, I can search for the weather in Cumilla specifically.', response_metadata={'finish_reason': 'stop', 'logprobs': None, 'model_name': 'gpt-3.5-turbo', 'system_fingerprint': None, 'token_usage': {'completion_tokens': 49, 'prompt_tokens': 714, 'total_tokens': 763}}, id='run-d71cf98c-c5e6-4861-91b5-c6c2d64541ce-0')]}}}, created_at='2024-06-18T12:43:32.648796+00:00', parent_config={'configurable': {'thread_id': '4', 'thread_ts': '1ef2d705-e41e-6b68-8003-14cf7015d6f2'}})\n",
      "--\n",
      "StateSnapshot(values={'messages': [HumanMessage(content='Whats the weather in Cumilla?', id='70b4e069-47bc-4f50-901c-2130076722db'), AIMessage(content='', additional_kwargs={'tool_calls': [{'function': {'arguments': '{\"query\":\"weather in Cumilla\"}', 'name': 'tavily_search_results_json'}, 'id': 'call_Mph7rLxs1foZZwTYLXS4CWqI', 'type': 'function'}]}, response_metadata={'finish_reason': 'tool_calls', 'logprobs': None, 'model_name': 'gpt-3.5-turbo', 'system_fingerprint': None, 'token_usage': {'completion_tokens': 21, 'prompt_tokens': 153, 'total_tokens': 174}}, id='run-a949c665-bf1f-4038-ac94-ff24eb405d6f-0', tool_calls=[{'name': 'tavily_search_results_json', 'args': {'query': 'current weather in Louisiana'}, 'id': 'call_Mph7rLxs1foZZwTYLXS4CWqI'}]), ToolMessage(content='[{\\'url\\': \\'https://www.weatherapi.com/\\', \\'content\\': \"{\\'location\\': {\\'name\\': \\'Louisiana\\', \\'region\\': \\'Missouri\\', \\'country\\': \\'USA United States of America\\', \\'lat\\': 39.44, \\'lon\\': -91.06, \\'tz_id\\': \\'America/Chicago\\', \\'localtime_epoch\\': 1718714562, \\'localtime\\': \\'2024-06-18 7:42\\'}, \\'current\\': {\\'last_updated_epoch\\': 1718713800, \\'last_updated\\': \\'2024-06-18 07:30\\', \\'temp_c\\': 24.5, \\'temp_f\\': 76.1, \\'is_day\\': 1, \\'condition\\': {\\'text\\': \\'Partly cloudy\\', \\'icon\\': \\'//cdn.weatherapi.com/weather/64x64/day/116.png\\', \\'code\\': 1003}, \\'wind_mph\\': 13.6, \\'wind_kph\\': 22.0, \\'wind_degree\\': 170, \\'wind_dir\\': \\'S\\', \\'pressure_mb\\': 1015.0, \\'pressure_in\\': 29.96, \\'precip_mm\\': 0.0, \\'precip_in\\': 0.0, \\'humidity\\': 82, \\'cloud\\': 50, \\'feelslike_c\\': 27.0, \\'feelslike_f\\': 80.5, \\'windchill_c\\': 23.0, \\'windchill_f\\': 73.4, \\'heatindex_c\\': 25.3, \\'heatindex_f\\': 77.6, \\'dewpoint_c\\': 20.6, \\'dewpoint_f\\': 69.1, \\'vis_km\\': 16.0, \\'vis_miles\\': 9.0, \\'uv\\': 6.0, \\'gust_mph\\': 16.8, \\'gust_kph\\': 27.0}}\"}, {\\'url\\': \\'https://www.kplctv.com/2024/06/18/first-alert-forecast-keeping-regular-showers-swla-potential-tropical-cyclone-one-heads-mexico/\\', \\'content\\': \\'First Alert Forecast (KPLC). The National Hurricane Center has declared the system in the Gulf that we have been monitoring as Potential Tropical Cyclone One, this simply means it COULD become a system before landfall and with landfall likely within the next few days tropical storm watches will be issued to give folks in the path a heads up.\\'}]', name='tavily_search_results_json', id='4aa3ca35-9b7a-443c-afa4-f7f1a0e3e801', tool_call_id='call_Mph7rLxs1foZZwTYLXS4CWqI')]}, next=('llm',), config={'configurable': {'thread_id': '4', 'thread_ts': '1ef2d705-e41e-6b68-8003-14cf7015d6f2'}}, metadata={'source': 'loop', 'step': 3, 'writes': {'action': {'messages': [ToolMessage(content='[{\\'url\\': \\'https://www.weatherapi.com/\\', \\'content\\': \"{\\'location\\': {\\'name\\': \\'Louisiana\\', \\'region\\': \\'Missouri\\', \\'country\\': \\'USA United States of America\\', \\'lat\\': 39.44, \\'lon\\': -91.06, \\'tz_id\\': \\'America/Chicago\\', \\'localtime_epoch\\': 1718714562, \\'localtime\\': \\'2024-06-18 7:42\\'}, \\'current\\': {\\'last_updated_epoch\\': 1718713800, \\'last_updated\\': \\'2024-06-18 07:30\\', \\'temp_c\\': 24.5, \\'temp_f\\': 76.1, \\'is_day\\': 1, \\'condition\\': {\\'text\\': \\'Partly cloudy\\', \\'icon\\': \\'//cdn.weatherapi.com/weather/64x64/day/116.png\\', \\'code\\': 1003}, \\'wind_mph\\': 13.6, \\'wind_kph\\': 22.0, \\'wind_degree\\': 170, \\'wind_dir\\': \\'S\\', \\'pressure_mb\\': 1015.0, \\'pressure_in\\': 29.96, \\'precip_mm\\': 0.0, \\'precip_in\\': 0.0, \\'humidity\\': 82, \\'cloud\\': 50, \\'feelslike_c\\': 27.0, \\'feelslike_f\\': 80.5, \\'windchill_c\\': 23.0, \\'windchill_f\\': 73.4, \\'heatindex_c\\': 25.3, \\'heatindex_f\\': 77.6, \\'dewpoint_c\\': 20.6, \\'dewpoint_f\\': 69.1, \\'vis_km\\': 16.0, \\'vis_miles\\': 9.0, \\'uv\\': 6.0, \\'gust_mph\\': 16.8, \\'gust_kph\\': 27.0}}\"}, {\\'url\\': \\'https://www.kplctv.com/2024/06/18/first-alert-forecast-keeping-regular-showers-swla-potential-tropical-cyclone-one-heads-mexico/\\', \\'content\\': \\'First Alert Forecast (KPLC). The National Hurricane Center has declared the system in the Gulf that we have been monitoring as Potential Tropical Cyclone One, this simply means it COULD become a system before landfall and with landfall likely within the next few days tropical storm watches will be issued to give folks in the path a heads up.\\'}]', name='tavily_search_results_json', id='4aa3ca35-9b7a-443c-afa4-f7f1a0e3e801', tool_call_id='call_Mph7rLxs1foZZwTYLXS4CWqI')]}}}, created_at='2024-06-18T12:43:31.273996+00:00', parent_config={'configurable': {'thread_id': '4', 'thread_ts': '1ef2d704-a7f1-67ea-8002-d4a68a68787c'}})\n",
      "--\n",
      "StateSnapshot(values={'messages': [HumanMessage(content='Whats the weather in Cumilla?', id='70b4e069-47bc-4f50-901c-2130076722db'), AIMessage(content='', additional_kwargs={'tool_calls': [{'function': {'arguments': '{\"query\":\"weather in Cumilla\"}', 'name': 'tavily_search_results_json'}, 'id': 'call_Mph7rLxs1foZZwTYLXS4CWqI', 'type': 'function'}]}, response_metadata={'finish_reason': 'tool_calls', 'logprobs': None, 'model_name': 'gpt-3.5-turbo', 'system_fingerprint': None, 'token_usage': {'completion_tokens': 21, 'prompt_tokens': 153, 'total_tokens': 174}}, id='run-a949c665-bf1f-4038-ac94-ff24eb405d6f-0', tool_calls=[{'name': 'tavily_search_results_json', 'args': {'query': 'current weather in Louisiana'}, 'id': 'call_Mph7rLxs1foZZwTYLXS4CWqI'}])]}, next=('action',), config={'configurable': {'thread_id': '4', 'thread_ts': '1ef2d704-a7f1-67ea-8002-d4a68a68787c'}}, metadata={'source': 'update', 'step': 2, 'writes': {'llm': {'messages': [HumanMessage(content='Whats the weather in Cumilla?', id='70b4e069-47bc-4f50-901c-2130076722db'), AIMessage(content='', additional_kwargs={'tool_calls': [{'function': {'arguments': '{\"query\":\"weather in Cumilla\"}', 'name': 'tavily_search_results_json'}, 'id': 'call_Mph7rLxs1foZZwTYLXS4CWqI', 'type': 'function'}]}, response_metadata={'finish_reason': 'tool_calls', 'logprobs': None, 'model_name': 'gpt-3.5-turbo', 'system_fingerprint': None, 'token_usage': {'completion_tokens': 21, 'prompt_tokens': 153, 'total_tokens': 174}}, id='run-a949c665-bf1f-4038-ac94-ff24eb405d6f-0', tool_calls=[{'name': 'tavily_search_results_json', 'args': {'query': 'current weather in Louisiana'}, 'id': 'call_Mph7rLxs1foZZwTYLXS4CWqI'}])]}}}, created_at='2024-06-18T12:42:58.120485+00:00', parent_config={'configurable': {'thread_id': '4', 'thread_ts': '1ef2d701-0d39-6ae3-8001-9e03ed1258fb'}})\n",
      "--\n",
      "StateSnapshot(values={'messages': [HumanMessage(content='Whats the weather in Cumilla?', id='70b4e069-47bc-4f50-901c-2130076722db'), AIMessage(content='', additional_kwargs={'tool_calls': [{'function': {'arguments': '{\"query\":\"weather in Cumilla\"}', 'name': 'tavily_search_results_json'}, 'id': 'call_Mph7rLxs1foZZwTYLXS4CWqI', 'type': 'function'}]}, response_metadata={'finish_reason': 'tool_calls', 'logprobs': None, 'model_name': 'gpt-3.5-turbo', 'system_fingerprint': None, 'token_usage': {'completion_tokens': 21, 'prompt_tokens': 153, 'total_tokens': 174}}, id='run-a949c665-bf1f-4038-ac94-ff24eb405d6f-0', tool_calls=[{'name': 'tavily_search_results_json', 'args': {'query': 'weather in Cumilla'}, 'id': 'call_Mph7rLxs1foZZwTYLXS4CWqI'}])]}, next=('action',), config={'configurable': {'thread_id': '4', 'thread_ts': '1ef2d701-0d39-6ae3-8001-9e03ed1258fb'}}, metadata={'source': 'loop', 'step': 1, 'writes': {'llm': {'messages': [AIMessage(content='', additional_kwargs={'tool_calls': [{'function': {'arguments': '{\"query\":\"weather in Cumilla\"}', 'name': 'tavily_search_results_json'}, 'id': 'call_Mph7rLxs1foZZwTYLXS4CWqI', 'type': 'function'}]}, response_metadata={'finish_reason': 'tool_calls', 'logprobs': None, 'model_name': 'gpt-3.5-turbo', 'system_fingerprint': None, 'token_usage': {'completion_tokens': 21, 'prompt_tokens': 153, 'total_tokens': 174}}, id='run-a949c665-bf1f-4038-ac94-ff24eb405d6f-0', tool_calls=[{'name': 'tavily_search_results_json', 'args': {'query': 'weather in Cumilla'}, 'id': 'call_Mph7rLxs1foZZwTYLXS4CWqI'}])]}}}, created_at='2024-06-18T12:41:21.366480+00:00', parent_config={'configurable': {'thread_id': '4', 'thread_ts': '1ef2d701-060c-6b15-8000-b5b1866da76a'}})\n",
      "--\n",
      "StateSnapshot(values={'messages': [HumanMessage(content='Whats the weather in Cumilla?', id='70b4e069-47bc-4f50-901c-2130076722db')]}, next=('llm',), config={'configurable': {'thread_id': '4', 'thread_ts': '1ef2d701-060c-6b15-8000-b5b1866da76a'}}, metadata={'source': 'loop', 'step': 0, 'writes': None}, created_at='2024-06-18T12:41:20.614055+00:00', parent_config={'configurable': {'thread_id': '4', 'thread_ts': '1ef2d701-060a-64a1-bfff-b488f9c73777'}})\n",
      "--\n",
      "StateSnapshot(values={'messages': []}, next=('__start__',), config={'configurable': {'thread_id': '4', 'thread_ts': '1ef2d701-060a-64a1-bfff-b488f9c73777'}}, metadata={'source': 'input', 'step': -1, 'writes': {'messages': [HumanMessage(content='Whats the weather in Cumilla?')]}}, created_at='2024-06-18T12:41:20.613074+00:00', parent_config=None)\n",
      "--\n"
     ]
    }
   ],
   "source": [
    "states = []\n",
    "for state in abot.graph.get_state_history(thread):\n",
    "    print(state)\n",
    "    print('--')\n",
    "    states.append(state)"
   ]
  },
  {
   "cell_type": "markdown",
   "id": "449896c8-6ec6-4166-b640-9cd1530336a0",
   "metadata": {},
   "source": [
    "To fetch the same state as was filmed, the offset below is changed to `-3` from `-1`. This accounts for the initial state `__start__` and the first state that are now stored to state memory with the latest version of software."
   ]
  },
  {
   "cell_type": "code",
   "execution_count": 45,
   "id": "4871f644-b131-4065-b7ce-b82c20a41f11",
   "metadata": {
    "height": 30
   },
   "outputs": [],
   "source": [
    "to_replay = states[-3]"
   ]
  },
  {
   "cell_type": "code",
   "execution_count": 46,
   "id": "8c3d8070-3f36-4cf0-a677-508e54359c8f",
   "metadata": {
    "height": 30
   },
   "outputs": [
    {
     "data": {
      "text/plain": [
       "StateSnapshot(values={'messages': [HumanMessage(content='Whats the weather in Cumilla?', id='70b4e069-47bc-4f50-901c-2130076722db'), AIMessage(content='', additional_kwargs={'tool_calls': [{'function': {'arguments': '{\"query\":\"weather in Cumilla\"}', 'name': 'tavily_search_results_json'}, 'id': 'call_Mph7rLxs1foZZwTYLXS4CWqI', 'type': 'function'}]}, response_metadata={'finish_reason': 'tool_calls', 'logprobs': None, 'model_name': 'gpt-3.5-turbo', 'system_fingerprint': None, 'token_usage': {'completion_tokens': 21, 'prompt_tokens': 153, 'total_tokens': 174}}, id='run-a949c665-bf1f-4038-ac94-ff24eb405d6f-0', tool_calls=[{'name': 'tavily_search_results_json', 'args': {'query': 'weather in Cumilla'}, 'id': 'call_Mph7rLxs1foZZwTYLXS4CWqI'}])]}, next=('action',), config={'configurable': {'thread_id': '4', 'thread_ts': '1ef2d701-0d39-6ae3-8001-9e03ed1258fb'}}, metadata={'source': 'loop', 'step': 1, 'writes': {'llm': {'messages': [AIMessage(content='', additional_kwargs={'tool_calls': [{'function': {'arguments': '{\"query\":\"weather in Cumilla\"}', 'name': 'tavily_search_results_json'}, 'id': 'call_Mph7rLxs1foZZwTYLXS4CWqI', 'type': 'function'}]}, response_metadata={'finish_reason': 'tool_calls', 'logprobs': None, 'model_name': 'gpt-3.5-turbo', 'system_fingerprint': None, 'token_usage': {'completion_tokens': 21, 'prompt_tokens': 153, 'total_tokens': 174}}, id='run-a949c665-bf1f-4038-ac94-ff24eb405d6f-0', tool_calls=[{'name': 'tavily_search_results_json', 'args': {'query': 'weather in Cumilla'}, 'id': 'call_Mph7rLxs1foZZwTYLXS4CWqI'}])]}}}, created_at='2024-06-18T12:41:21.366480+00:00', parent_config={'configurable': {'thread_id': '4', 'thread_ts': '1ef2d701-060c-6b15-8000-b5b1866da76a'}})"
      ]
     },
     "execution_count": 46,
     "metadata": {},
     "output_type": "execute_result"
    }
   ],
   "source": [
    "to_replay"
   ]
  },
  {
   "cell_type": "code",
   "execution_count": 47,
   "id": "98f3be1d-cc4c-41fa-9863-3e386e88e305",
   "metadata": {
    "height": 64
   },
   "outputs": [
    {
     "name": "stdout",
     "output_type": "stream",
     "text": [
      "Calling: {'name': 'tavily_search_results_json', 'args': {'query': 'weather in Cumilla'}, 'id': 'call_Mph7rLxs1foZZwTYLXS4CWqI'}\n",
      "Back to the model!\n",
      "{'messages': [ToolMessage(content='[{\\'url\\': \\'https://www.weatherapi.com/\\', \\'content\\': \"{\\'error\\': {\\'code\\': 1006, \\'message\\': \\'No matching location found.\\'}}\"}, {\\'url\\': \\'https://sharpweather.com/weather_cumilla/\\', \\'content\\': \\'Accurate weather forecast in Cumilla. En Es . Widgets for website . ... Chattogram Division . Weather Cumilla. Today Tomorrow 3 Days 7 Days 10 Days Weekend . Now 5:21 PM, Thursday 13 June, 2024 +87°F . Broken cloud sky . Wind: South, 12 mph. Pressure: 750 mmHg. Humidity: 73 %. ... Tue 18.06 +91°F +83°F . Wed 19.06 +89°F +82°F . More ...\\'}]', name='tavily_search_results_json', id='d501f2ee-2015-49f3-8c4e-cf94fe1d8822', tool_call_id='call_Mph7rLxs1foZZwTYLXS4CWqI')]}\n",
      "{'messages': [HumanMessage(content='Whats the weather in Cumilla?', id='70b4e069-47bc-4f50-901c-2130076722db'), AIMessage(content='', additional_kwargs={'tool_calls': [{'function': {'arguments': '{\"query\":\"weather in Cumilla\"}', 'name': 'tavily_search_results_json'}, 'id': 'call_Mph7rLxs1foZZwTYLXS4CWqI', 'type': 'function'}]}, response_metadata={'finish_reason': 'tool_calls', 'logprobs': None, 'model_name': 'gpt-3.5-turbo', 'system_fingerprint': None, 'token_usage': {'completion_tokens': 21, 'prompt_tokens': 153, 'total_tokens': 174}}, id='run-a949c665-bf1f-4038-ac94-ff24eb405d6f-0', tool_calls=[{'name': 'tavily_search_results_json', 'args': {'query': 'weather in Cumilla'}, 'id': 'call_Mph7rLxs1foZZwTYLXS4CWqI'}]), ToolMessage(content='[{\\'url\\': \\'https://www.weatherapi.com/\\', \\'content\\': \"{\\'error\\': {\\'code\\': 1006, \\'message\\': \\'No matching location found.\\'}}\"}, {\\'url\\': \\'https://sharpweather.com/weather_cumilla/\\', \\'content\\': \\'Accurate weather forecast in Cumilla. En Es . Widgets for website . ... Chattogram Division . Weather Cumilla. Today Tomorrow 3 Days 7 Days 10 Days Weekend . Now 5:21 PM, Thursday 13 June, 2024 +87°F . Broken cloud sky . Wind: South, 12 mph. Pressure: 750 mmHg. Humidity: 73 %. ... Tue 18.06 +91°F +83°F . Wed 19.06 +89°F +82°F . More ...\\'}]', name='tavily_search_results_json', id='d501f2ee-2015-49f3-8c4e-cf94fe1d8822', tool_call_id='call_Mph7rLxs1foZZwTYLXS4CWqI'), AIMessage(content='I found some information about the weather in Cumilla. It seems that the current weather is around 87°F with broken cloud sky. The wind is coming from the south at 12 mph, and the humidity is at 73%. Would you like to know more details or the forecast for the upcoming days?', response_metadata={'token_usage': {'completion_tokens': 63, 'prompt_tokens': 351, 'total_tokens': 414}, 'model_name': 'gpt-3.5-turbo', 'system_fingerprint': None, 'finish_reason': 'stop', 'logprobs': None}, id='run-348daff5-1673-4d65-889b-4eba618016b1-0')]}\n",
      "{'messages': [AIMessage(content='I found some information about the weather in Cumilla. It seems that the current weather is around 87°F with broken cloud sky. The wind is coming from the south at 12 mph, and the humidity is at 73%. Would you like to know more details or the forecast for the upcoming days?', response_metadata={'token_usage': {'completion_tokens': 63, 'prompt_tokens': 351, 'total_tokens': 414}, 'model_name': 'gpt-3.5-turbo', 'system_fingerprint': None, 'finish_reason': 'stop', 'logprobs': None}, id='run-348daff5-1673-4d65-889b-4eba618016b1-0')]}\n"
     ]
    }
   ],
   "source": [
    "for event in abot.graph.stream(None, to_replay.config):\n",
    "    for k, v in event.items():\n",
    "        print(v)"
   ]
  },
  {
   "cell_type": "markdown",
   "id": "005353dc-630b-4b40-ab19-56c57ac06611",
   "metadata": {},
   "source": [
    "## Go back in time and edit"
   ]
  },
  {
   "cell_type": "code",
   "execution_count": 48,
   "id": "0ad8a6cc-65d4-4ce7-87aa-4e67d7c23d7b",
   "metadata": {
    "height": 30
   },
   "outputs": [
    {
     "data": {
      "text/plain": [
       "StateSnapshot(values={'messages': [HumanMessage(content='Whats the weather in Cumilla?', id='70b4e069-47bc-4f50-901c-2130076722db'), AIMessage(content='', additional_kwargs={'tool_calls': [{'function': {'arguments': '{\"query\":\"weather in Cumilla\"}', 'name': 'tavily_search_results_json'}, 'id': 'call_Mph7rLxs1foZZwTYLXS4CWqI', 'type': 'function'}]}, response_metadata={'finish_reason': 'tool_calls', 'logprobs': None, 'model_name': 'gpt-3.5-turbo', 'system_fingerprint': None, 'token_usage': {'completion_tokens': 21, 'prompt_tokens': 153, 'total_tokens': 174}}, id='run-a949c665-bf1f-4038-ac94-ff24eb405d6f-0', tool_calls=[{'name': 'tavily_search_results_json', 'args': {'query': 'weather in Cumilla'}, 'id': 'call_Mph7rLxs1foZZwTYLXS4CWqI'}])]}, next=('action',), config={'configurable': {'thread_id': '4', 'thread_ts': '1ef2d701-0d39-6ae3-8001-9e03ed1258fb'}}, metadata={'source': 'loop', 'step': 1, 'writes': {'llm': {'messages': [AIMessage(content='', additional_kwargs={'tool_calls': [{'function': {'arguments': '{\"query\":\"weather in Cumilla\"}', 'name': 'tavily_search_results_json'}, 'id': 'call_Mph7rLxs1foZZwTYLXS4CWqI', 'type': 'function'}]}, response_metadata={'finish_reason': 'tool_calls', 'logprobs': None, 'model_name': 'gpt-3.5-turbo', 'system_fingerprint': None, 'token_usage': {'completion_tokens': 21, 'prompt_tokens': 153, 'total_tokens': 174}}, id='run-a949c665-bf1f-4038-ac94-ff24eb405d6f-0', tool_calls=[{'name': 'tavily_search_results_json', 'args': {'query': 'weather in Cumilla'}, 'id': 'call_Mph7rLxs1foZZwTYLXS4CWqI'}])]}}}, created_at='2024-06-18T12:41:21.366480+00:00', parent_config={'configurable': {'thread_id': '4', 'thread_ts': '1ef2d701-060c-6b15-8000-b5b1866da76a'}})"
      ]
     },
     "execution_count": 48,
     "metadata": {},
     "output_type": "execute_result"
    }
   ],
   "source": [
    "to_replay"
   ]
  },
  {
   "cell_type": "code",
   "execution_count": 50,
   "id": "592b5e62-a203-433c-92a0-3783f490cde1",
   "metadata": {
    "height": 98
   },
   "outputs": [],
   "source": [
    "_id = to_replay.values['messages'][-1].tool_calls[0]['id']\n",
    "to_replay.values['messages'][-1].tool_calls = [{'name': 'tavily_search_results_json',\n",
    "  'args': {'query': 'current weather in LA, accuweather'},\n",
    "  'id': _id}]"
   ]
  },
  {
   "cell_type": "code",
   "execution_count": 51,
   "id": "14fa923c-7e4f-42d1-965f-0f8ccd50fbd7",
   "metadata": {
    "height": 47
   },
   "outputs": [
    {
     "name": "stdout",
     "output_type": "stream",
     "text": [
      "{'messages': [HumanMessage(content='Whats the weather in Cumilla?', id='70b4e069-47bc-4f50-901c-2130076722db'), AIMessage(content='', additional_kwargs={'tool_calls': [{'function': {'arguments': '{\"query\":\"weather in Cumilla\"}', 'name': 'tavily_search_results_json'}, 'id': 'call_Mph7rLxs1foZZwTYLXS4CWqI', 'type': 'function'}]}, response_metadata={'finish_reason': 'tool_calls', 'logprobs': None, 'model_name': 'gpt-3.5-turbo', 'system_fingerprint': None, 'token_usage': {'completion_tokens': 21, 'prompt_tokens': 153, 'total_tokens': 174}}, id='run-a949c665-bf1f-4038-ac94-ff24eb405d6f-0', tool_calls=[{'name': 'tavily_search_results_json', 'args': {'query': 'current weather in LA, accuweather'}, 'id': 'call_Mph7rLxs1foZZwTYLXS4CWqI'}])]}\n"
     ]
    }
   ],
   "source": [
    "branch_state = abot.graph.update_state(to_replay.config, to_replay.values)"
   ]
  },
  {
   "cell_type": "code",
   "execution_count": 52,
   "id": "570c6245-2837-4ac5-983b-95f61f3ac10d",
   "metadata": {
    "height": 81
   },
   "outputs": [
    {
     "name": "stdout",
     "output_type": "stream",
     "text": [
      "Calling: {'name': 'tavily_search_results_json', 'args': {'query': 'current weather in LA, accuweather'}, 'id': 'call_Mph7rLxs1foZZwTYLXS4CWqI'}\n",
      "Back to the model!\n",
      "{'messages': [ToolMessage(content='[{\\'url\\': \\'https://www.weatherapi.com/\\', \\'content\\': \"{\\'location\\': {\\'name\\': \\'Los Angeles\\', \\'region\\': \\'California\\', \\'country\\': \\'United States of America\\', \\'lat\\': 34.05, \\'lon\\': -118.24, \\'tz_id\\': \\'America/Los_Angeles\\', \\'localtime_epoch\\': 1718714706, \\'localtime\\': \\'2024-06-18 5:45\\'}, \\'current\\': {\\'last_updated_epoch\\': 1718714700, \\'last_updated\\': \\'2024-06-18 05:45\\', \\'temp_c\\': 17.8, \\'temp_f\\': 64.0, \\'is_day\\': 1, \\'condition\\': {\\'text\\': \\'Clear\\', \\'icon\\': \\'//cdn.weatherapi.com/weather/64x64/day/113.png\\', \\'code\\': 1000}, \\'wind_mph\\': 3.6, \\'wind_kph\\': 5.8, \\'wind_degree\\': 179, \\'wind_dir\\': \\'S\\', \\'pressure_mb\\': 1007.0, \\'pressure_in\\': 29.72, \\'precip_mm\\': 0.0, \\'precip_in\\': 0.0, \\'humidity\\': 66, \\'cloud\\': 0, \\'feelslike_c\\': 17.8, \\'feelslike_f\\': 64.0, \\'windchill_c\\': 17.8, \\'windchill_f\\': 64.0, \\'heatindex_c\\': 17.8, \\'heatindex_f\\': 64.0, \\'dewpoint_c\\': 11.4, \\'dewpoint_f\\': 52.5, \\'vis_km\\': 10.0, \\'vis_miles\\': 6.0, \\'uv\\': 1.0, \\'gust_mph\\': 4.9, \\'gust_kph\\': 8.0}}\"}]', name='tavily_search_results_json', id='e730b7b2-27fb-4575-b306-263464a1971b', tool_call_id='call_Mph7rLxs1foZZwTYLXS4CWqI')]}\n",
      "{'messages': [HumanMessage(content='Whats the weather in Cumilla?', id='70b4e069-47bc-4f50-901c-2130076722db'), AIMessage(content='', additional_kwargs={'tool_calls': [{'function': {'arguments': '{\"query\":\"weather in Cumilla\"}', 'name': 'tavily_search_results_json'}, 'id': 'call_Mph7rLxs1foZZwTYLXS4CWqI', 'type': 'function'}]}, response_metadata={'finish_reason': 'tool_calls', 'logprobs': None, 'model_name': 'gpt-3.5-turbo', 'system_fingerprint': None, 'token_usage': {'completion_tokens': 21, 'prompt_tokens': 153, 'total_tokens': 174}}, id='run-a949c665-bf1f-4038-ac94-ff24eb405d6f-0', tool_calls=[{'name': 'tavily_search_results_json', 'args': {'query': 'current weather in LA, accuweather'}, 'id': 'call_Mph7rLxs1foZZwTYLXS4CWqI'}]), ToolMessage(content='[{\\'url\\': \\'https://www.weatherapi.com/\\', \\'content\\': \"{\\'location\\': {\\'name\\': \\'Los Angeles\\', \\'region\\': \\'California\\', \\'country\\': \\'United States of America\\', \\'lat\\': 34.05, \\'lon\\': -118.24, \\'tz_id\\': \\'America/Los_Angeles\\', \\'localtime_epoch\\': 1718714706, \\'localtime\\': \\'2024-06-18 5:45\\'}, \\'current\\': {\\'last_updated_epoch\\': 1718714700, \\'last_updated\\': \\'2024-06-18 05:45\\', \\'temp_c\\': 17.8, \\'temp_f\\': 64.0, \\'is_day\\': 1, \\'condition\\': {\\'text\\': \\'Clear\\', \\'icon\\': \\'//cdn.weatherapi.com/weather/64x64/day/113.png\\', \\'code\\': 1000}, \\'wind_mph\\': 3.6, \\'wind_kph\\': 5.8, \\'wind_degree\\': 179, \\'wind_dir\\': \\'S\\', \\'pressure_mb\\': 1007.0, \\'pressure_in\\': 29.72, \\'precip_mm\\': 0.0, \\'precip_in\\': 0.0, \\'humidity\\': 66, \\'cloud\\': 0, \\'feelslike_c\\': 17.8, \\'feelslike_f\\': 64.0, \\'windchill_c\\': 17.8, \\'windchill_f\\': 64.0, \\'heatindex_c\\': 17.8, \\'heatindex_f\\': 64.0, \\'dewpoint_c\\': 11.4, \\'dewpoint_f\\': 52.5, \\'vis_km\\': 10.0, \\'vis_miles\\': 6.0, \\'uv\\': 1.0, \\'gust_mph\\': 4.9, \\'gust_kph\\': 8.0}}\"}]', name='tavily_search_results_json', id='e730b7b2-27fb-4575-b306-263464a1971b', tool_call_id='call_Mph7rLxs1foZZwTYLXS4CWqI'), AIMessage(content=\"I couldn't find the weather information for Cumilla. However, I found the current weather in Los Angeles. The temperature is 17.8°C (64.0°F), with clear skies and a light wind from the south.\", response_metadata={'token_usage': {'completion_tokens': 48, 'prompt_tokens': 597, 'total_tokens': 645}, 'model_name': 'gpt-3.5-turbo', 'system_fingerprint': None, 'finish_reason': 'stop', 'logprobs': None}, id='run-b977d3b5-1b1f-4fbd-b9fd-42e11b826552-0')]}\n",
      "{'messages': [AIMessage(content=\"I couldn't find the weather information for Cumilla. However, I found the current weather in Los Angeles. The temperature is 17.8°C (64.0°F), with clear skies and a light wind from the south.\", response_metadata={'token_usage': {'completion_tokens': 48, 'prompt_tokens': 597, 'total_tokens': 645}, 'model_name': 'gpt-3.5-turbo', 'system_fingerprint': None, 'finish_reason': 'stop', 'logprobs': None}, id='run-b977d3b5-1b1f-4fbd-b9fd-42e11b826552-0')]}\n"
     ]
    }
   ],
   "source": [
    "for event in abot.graph.stream(None, branch_state):\n",
    "    for k, v in event.items():\n",
    "        if k != \"__end__\":\n",
    "            print(v)"
   ]
  },
  {
   "cell_type": "markdown",
   "id": "f1016ce7-368d-4922-9044-fcdfd47c273b",
   "metadata": {},
   "source": [
    "## Add message to a state at a given time"
   ]
  },
  {
   "cell_type": "code",
   "execution_count": 53,
   "id": "6b910915-b087-4d35-afff-0ec30a5852f1",
   "metadata": {
    "height": 30
   },
   "outputs": [
    {
     "data": {
      "text/plain": [
       "StateSnapshot(values={'messages': [HumanMessage(content='Whats the weather in Cumilla?', id='70b4e069-47bc-4f50-901c-2130076722db'), AIMessage(content='', additional_kwargs={'tool_calls': [{'function': {'arguments': '{\"query\":\"weather in Cumilla\"}', 'name': 'tavily_search_results_json'}, 'id': 'call_Mph7rLxs1foZZwTYLXS4CWqI', 'type': 'function'}]}, response_metadata={'finish_reason': 'tool_calls', 'logprobs': None, 'model_name': 'gpt-3.5-turbo', 'system_fingerprint': None, 'token_usage': {'completion_tokens': 21, 'prompt_tokens': 153, 'total_tokens': 174}}, id='run-a949c665-bf1f-4038-ac94-ff24eb405d6f-0', tool_calls=[{'name': 'tavily_search_results_json', 'args': {'query': 'current weather in LA, accuweather'}, 'id': 'call_Mph7rLxs1foZZwTYLXS4CWqI'}])]}, next=('action',), config={'configurable': {'thread_id': '4', 'thread_ts': '1ef2d701-0d39-6ae3-8001-9e03ed1258fb'}}, metadata={'source': 'loop', 'step': 1, 'writes': {'llm': {'messages': [AIMessage(content='', additional_kwargs={'tool_calls': [{'function': {'arguments': '{\"query\":\"weather in Cumilla\"}', 'name': 'tavily_search_results_json'}, 'id': 'call_Mph7rLxs1foZZwTYLXS4CWqI', 'type': 'function'}]}, response_metadata={'finish_reason': 'tool_calls', 'logprobs': None, 'model_name': 'gpt-3.5-turbo', 'system_fingerprint': None, 'token_usage': {'completion_tokens': 21, 'prompt_tokens': 153, 'total_tokens': 174}}, id='run-a949c665-bf1f-4038-ac94-ff24eb405d6f-0', tool_calls=[{'name': 'tavily_search_results_json', 'args': {'query': 'weather in Cumilla'}, 'id': 'call_Mph7rLxs1foZZwTYLXS4CWqI'}])]}}}, created_at='2024-06-18T12:41:21.366480+00:00', parent_config={'configurable': {'thread_id': '4', 'thread_ts': '1ef2d701-060c-6b15-8000-b5b1866da76a'}})"
      ]
     },
     "execution_count": 53,
     "metadata": {},
     "output_type": "execute_result"
    }
   ],
   "source": [
    "to_replay"
   ]
  },
  {
   "cell_type": "code",
   "execution_count": 54,
   "id": "c4feb6cc-5129-4a99-bb45-851bc07b5709",
   "metadata": {
    "height": 30
   },
   "outputs": [],
   "source": [
    "_id = to_replay.values['messages'][-1].tool_calls[0]['id']"
   ]
  },
  {
   "cell_type": "code",
   "execution_count": 55,
   "id": "e85a02b4-96cc-4b01-8792-397a774eb499",
   "metadata": {
    "height": 98
   },
   "outputs": [],
   "source": [
    "state_update = {\"messages\": [ToolMessage(\n",
    "    tool_call_id=_id,\n",
    "    name=\"tavily_search_results_json\",\n",
    "    content=\"54 degree celcius\",\n",
    ")]}"
   ]
  },
  {
   "cell_type": "code",
   "execution_count": 56,
   "id": "ae8b86a6-5e20-4252-b1d8-009b8318345a",
   "metadata": {
    "height": 81
   },
   "outputs": [],
   "source": [
    "branch_and_add = abot.graph.update_state(\n",
    "    to_replay.config, \n",
    "    state_update, \n",
    "    as_node=\"action\")"
   ]
  },
  {
   "cell_type": "code",
   "execution_count": 57,
   "id": "af925917-b746-48c9-ac74-62fefbe5246c",
   "metadata": {
    "height": 64
   },
   "outputs": [
    {
     "name": "stdout",
     "output_type": "stream",
     "text": [
      "{'messages': [HumanMessage(content='Whats the weather in Cumilla?', id='70b4e069-47bc-4f50-901c-2130076722db'), AIMessage(content='', additional_kwargs={'tool_calls': [{'function': {'arguments': '{\"query\":\"weather in Cumilla\"}', 'name': 'tavily_search_results_json'}, 'id': 'call_Mph7rLxs1foZZwTYLXS4CWqI', 'type': 'function'}]}, response_metadata={'finish_reason': 'tool_calls', 'logprobs': None, 'model_name': 'gpt-3.5-turbo', 'system_fingerprint': None, 'token_usage': {'completion_tokens': 21, 'prompt_tokens': 153, 'total_tokens': 174}}, id='run-a949c665-bf1f-4038-ac94-ff24eb405d6f-0', tool_calls=[{'name': 'tavily_search_results_json', 'args': {'query': 'weather in Cumilla'}, 'id': 'call_Mph7rLxs1foZZwTYLXS4CWqI'}]), ToolMessage(content='54 degree celcius', name='tavily_search_results_json', id='90c2190a-1b10-40e0-9c21-378f6b61f70e', tool_call_id='call_Mph7rLxs1foZZwTYLXS4CWqI'), AIMessage(content='The current weather in Cumilla is 54 degrees Celsius. That seems unusually high. Would you like me to check again or provide any other information related to the weather in Cumilla?', response_metadata={'token_usage': {'completion_tokens': 38, 'prompt_tokens': 191, 'total_tokens': 229}, 'model_name': 'gpt-3.5-turbo', 'system_fingerprint': None, 'finish_reason': 'stop', 'logprobs': None}, id='run-de186e48-e990-4ea0-bc1e-5b0bcc77357d-0')]}\n",
      "{'messages': [AIMessage(content='The current weather in Cumilla is 54 degrees Celsius. That seems unusually high. Would you like me to check again or provide any other information related to the weather in Cumilla?', response_metadata={'token_usage': {'completion_tokens': 38, 'prompt_tokens': 191, 'total_tokens': 229}, 'model_name': 'gpt-3.5-turbo', 'system_fingerprint': None, 'finish_reason': 'stop', 'logprobs': None}, id='run-de186e48-e990-4ea0-bc1e-5b0bcc77357d-0')]}\n"
     ]
    }
   ],
   "source": [
    "for event in abot.graph.stream(None, branch_and_add):\n",
    "    for k, v in event.items():\n",
    "        print(v)"
   ]
  },
  {
   "cell_type": "markdown",
   "id": "a6b1de51-f1dd-4719-89e6-01c21d2b304e",
   "metadata": {},
   "source": [
    "# Extra Practice"
   ]
  },
  {
   "cell_type": "markdown",
   "id": "31e06033-59fd-4d6b-8891-fb8bc2d7a037",
   "metadata": {},
   "source": [
    "## Build a small graph\n",
    "This is a small simple graph you can tinker with if you want more insight into controlling state memory."
   ]
  },
  {
   "cell_type": "code",
   "execution_count": 58,
   "id": "7614683e-1c13-4518-b464-263fb91be761",
   "metadata": {
    "height": 64
   },
   "outputs": [],
   "source": [
    "from dotenv import load_dotenv\n",
    "\n",
    "_ = load_dotenv()"
   ]
  },
  {
   "cell_type": "code",
   "execution_count": 59,
   "id": "efbef86a-75fe-416f-99ab-70b181d934dc",
   "metadata": {
    "height": 81
   },
   "outputs": [],
   "source": [
    "from langgraph.graph import StateGraph, END\n",
    "from typing import TypedDict, Annotated\n",
    "import operator\n",
    "from langgraph.checkpoint.sqlite import SqliteSaver"
   ]
  },
  {
   "cell_type": "markdown",
   "id": "67c972f7-5a14-49da-9d82-37105a6637ed",
   "metadata": {},
   "source": [
    "Define a simple 2 node graph with the following state:\n",
    "-`lnode`: last node\n",
    "-`scratch`: a scratchpad location\n",
    "-`count` : a counter that is incremented each step"
   ]
  },
  {
   "cell_type": "code",
   "execution_count": 60,
   "id": "b846f637-5e98-4a7d-9ca0-5144302b7cef",
   "metadata": {
    "height": 81
   },
   "outputs": [],
   "source": [
    "class AgentState(TypedDict):\n",
    "    lnode: str\n",
    "    scratch: str\n",
    "    count: Annotated[int, operator.add]"
   ]
  },
  {
   "cell_type": "code",
   "execution_count": 61,
   "id": "b8bb1c6d-41b7-4f5b-807b-ecbdec82d8d6",
   "metadata": {
    "height": 183
   },
   "outputs": [],
   "source": [
    "def node1(state: AgentState):\n",
    "    print(f\"node1, count:{state['count']}\")\n",
    "    return {\"lnode\": \"node_1\",\n",
    "            \"count\": 1,\n",
    "           }\n",
    "def node2(state: AgentState):\n",
    "    print(f\"node2, count:{state['count']}\")\n",
    "    return {\"lnode\": \"node_2\",\n",
    "            \"count\": 1,\n",
    "           }"
   ]
  },
  {
   "cell_type": "markdown",
   "id": "6adc403b-10d2-4a6c-bd21-c84bb8e0c8fc",
   "metadata": {},
   "source": [
    "The graph goes N1->N2->N1... but breaks after count reaches 3."
   ]
  },
  {
   "cell_type": "code",
   "execution_count": 62,
   "id": "b2c6d249-4793-41c5-8e80-40f1eedc4baf",
   "metadata": {
    "height": 47
   },
   "outputs": [],
   "source": [
    "def should_continue(state):\n",
    "    return state[\"count\"] < 3"
   ]
  },
  {
   "cell_type": "code",
   "execution_count": 63,
   "id": "4e3721d9-4508-48fa-9be0-93af20144072",
   "metadata": {
    "height": 166
   },
   "outputs": [],
   "source": [
    "builder = StateGraph(AgentState)\n",
    "builder.add_node(\"Node1\", node1)\n",
    "builder.add_node(\"Node2\", node2)\n",
    "\n",
    "builder.add_edge(\"Node1\", \"Node2\")\n",
    "builder.add_conditional_edges(\"Node2\", \n",
    "                              should_continue, \n",
    "                              {True: \"Node1\", False: END})\n",
    "builder.set_entry_point(\"Node1\")"
   ]
  },
  {
   "cell_type": "code",
   "execution_count": 64,
   "id": "8d35d70c-daeb-49c1-9b7c-90cc2a7ca142",
   "metadata": {
    "height": 47
   },
   "outputs": [],
   "source": [
    "memory = SqliteSaver.from_conn_string(\":memory:\")\n",
    "graph = builder.compile(checkpointer=memory)"
   ]
  },
  {
   "cell_type": "markdown",
   "id": "c57051f5-f7fb-4be5-a2f5-21cb1aa4fecb",
   "metadata": {},
   "source": [
    "### Run it!\n",
    "Now, set the thread and run!"
   ]
  },
  {
   "cell_type": "code",
   "execution_count": 65,
   "id": "edba3a1a-84a7-45eb-a6ee-74a612b68d54",
   "metadata": {
    "height": 47
   },
   "outputs": [
    {
     "name": "stdout",
     "output_type": "stream",
     "text": [
      "node1, count:0\n",
      "node2, count:1\n",
      "node1, count:2\n",
      "node2, count:3\n"
     ]
    },
    {
     "data": {
      "text/plain": [
       "{'lnode': 'node_2', 'scratch': 'hi', 'count': 4}"
      ]
     },
     "execution_count": 65,
     "metadata": {},
     "output_type": "execute_result"
    }
   ],
   "source": [
    "thread = {\"configurable\": {\"thread_id\": str(1)}}\n",
    "graph.invoke({\"count\":0, \"scratch\":\"hi\"},thread)"
   ]
  },
  {
   "cell_type": "markdown",
   "id": "2ce7b035-bfdb-4642-8750-47d188277423",
   "metadata": {},
   "source": [
    "### Look at current state"
   ]
  },
  {
   "cell_type": "markdown",
   "id": "43324904-a6f4-4299-86de-e0218e4cb225",
   "metadata": {},
   "source": [
    "Get the current state. Note the `values` which are the AgentState. Note the `config` and the `thread_ts`. You will be using those to refer to snapshots below."
   ]
  },
  {
   "cell_type": "code",
   "execution_count": 66,
   "id": "f2513b41-31b2-46e6-84f6-0c519f697973",
   "metadata": {
    "height": 30
   },
   "outputs": [
    {
     "data": {
      "text/plain": [
       "StateSnapshot(values={'lnode': 'node_2', 'scratch': 'hi', 'count': 4}, next=(), config={'configurable': {'thread_id': '1', 'thread_ts': '1ef2d716-8f02-62c9-8004-98243ea800b9'}}, metadata={'source': 'loop', 'step': 4, 'writes': {'Node2': {'count': 1, 'lnode': 'node_2'}}}, created_at='2024-06-18T12:50:58.689693+00:00', parent_config={'configurable': {'thread_id': '1', 'thread_ts': '1ef2d716-8efe-6fb5-8003-57a9ffd5f25e'}})"
      ]
     },
     "execution_count": 66,
     "metadata": {},
     "output_type": "execute_result"
    }
   ],
   "source": [
    "graph.get_state(thread)"
   ]
  },
  {
   "cell_type": "markdown",
   "id": "7f7be4ae-24f0-4362-bd99-55ad38fe0112",
   "metadata": {},
   "source": [
    "View all the statesnapshots in memory. You can use the displayed `count` agentstate variable to help track what you see. Notice the most recent snapshots are returned by the iterator first. Also note that there is a handy `step` variable in the metadata that counts the number of steps in the graph execution. This is a bit detailed - but you can also notice that the *parent_config* is the *config* of the previous node. At initial startup, additional states are inserted into memory to create a parent. This is something to check when you branch or *time travel* below."
   ]
  },
  {
   "cell_type": "markdown",
   "id": "18647be0-c7c6-4ec5-9454-54a034fcd053",
   "metadata": {},
   "source": [
    "### Look at state history"
   ]
  },
  {
   "cell_type": "code",
   "execution_count": 67,
   "id": "686fa197-c97f-4ae6-82d2-938bbe5542c1",
   "metadata": {
    "height": 47
   },
   "outputs": [
    {
     "name": "stdout",
     "output_type": "stream",
     "text": [
      "StateSnapshot(values={'lnode': 'node_2', 'scratch': 'hi', 'count': 4}, next=(), config={'configurable': {'thread_id': '1', 'thread_ts': '1ef2d716-8f02-62c9-8004-98243ea800b9'}}, metadata={'source': 'loop', 'step': 4, 'writes': {'Node2': {'count': 1, 'lnode': 'node_2'}}}, created_at='2024-06-18T12:50:58.689693+00:00', parent_config={'configurable': {'thread_id': '1', 'thread_ts': '1ef2d716-8efe-6fb5-8003-57a9ffd5f25e'}}) \n",
      "\n",
      "StateSnapshot(values={'lnode': 'node_1', 'scratch': 'hi', 'count': 3}, next=('Node2',), config={'configurable': {'thread_id': '1', 'thread_ts': '1ef2d716-8efe-6fb5-8003-57a9ffd5f25e'}}, metadata={'source': 'loop', 'step': 3, 'writes': {'Node1': {'count': 1, 'lnode': 'node_1'}}}, created_at='2024-06-18T12:50:58.688387+00:00', parent_config={'configurable': {'thread_id': '1', 'thread_ts': '1ef2d716-8efc-63de-8002-db72589ec4cd'}}) \n",
      "\n",
      "StateSnapshot(values={'lnode': 'node_2', 'scratch': 'hi', 'count': 2}, next=('Node1',), config={'configurable': {'thread_id': '1', 'thread_ts': '1ef2d716-8efc-63de-8002-db72589ec4cd'}}, metadata={'source': 'loop', 'step': 2, 'writes': {'Node2': {'count': 1, 'lnode': 'node_2'}}}, created_at='2024-06-18T12:50:58.687268+00:00', parent_config={'configurable': {'thread_id': '1', 'thread_ts': '1ef2d716-8ef7-69fe-8001-564ec5188d15'}}) \n",
      "\n",
      "StateSnapshot(values={'lnode': 'node_1', 'scratch': 'hi', 'count': 1}, next=('Node2',), config={'configurable': {'thread_id': '1', 'thread_ts': '1ef2d716-8ef7-69fe-8001-564ec5188d15'}}, metadata={'source': 'loop', 'step': 1, 'writes': {'Node1': {'count': 1, 'lnode': 'node_1'}}}, created_at='2024-06-18T12:50:58.685376+00:00', parent_config={'configurable': {'thread_id': '1', 'thread_ts': '1ef2d716-8ef3-6a09-8000-257051a380bb'}}) \n",
      "\n",
      "StateSnapshot(values={'scratch': 'hi', 'count': 0}, next=('Node1',), config={'configurable': {'thread_id': '1', 'thread_ts': '1ef2d716-8ef3-6a09-8000-257051a380bb'}}, metadata={'source': 'loop', 'step': 0, 'writes': None}, created_at='2024-06-18T12:50:58.683739+00:00', parent_config={'configurable': {'thread_id': '1', 'thread_ts': '1ef2d716-8ef0-6d4a-bfff-0e5a6b759563'}}) \n",
      "\n",
      "StateSnapshot(values={'count': 0}, next=('__start__',), config={'configurable': {'thread_id': '1', 'thread_ts': '1ef2d716-8ef0-6d4a-bfff-0e5a6b759563'}}, metadata={'source': 'input', 'step': -1, 'writes': {'count': 0, 'scratch': 'hi'}}, created_at='2024-06-18T12:50:58.682592+00:00', parent_config=None) \n",
      "\n"
     ]
    }
   ],
   "source": [
    "for state in graph.get_state_history(thread):\n",
    "    print(state, \"\\n\")"
   ]
  },
  {
   "cell_type": "markdown",
   "id": "dd7850ff-0748-43d7-8956-074fa9fd819f",
   "metadata": {},
   "source": [
    "Store just the `config` into an list. Note the sequence of counts on the right. `get_state_history` returns the most recent snapshots first."
   ]
  },
  {
   "cell_type": "code",
   "execution_count": 68,
   "id": "9f68e604-4f53-46c0-8f06-e7726ec9dcf6",
   "metadata": {
    "height": 81
   },
   "outputs": [
    {
     "name": "stdout",
     "output_type": "stream",
     "text": [
      "{'configurable': {'thread_id': '1', 'thread_ts': '1ef2d716-8f02-62c9-8004-98243ea800b9'}} 4\n",
      "{'configurable': {'thread_id': '1', 'thread_ts': '1ef2d716-8efe-6fb5-8003-57a9ffd5f25e'}} 3\n",
      "{'configurable': {'thread_id': '1', 'thread_ts': '1ef2d716-8efc-63de-8002-db72589ec4cd'}} 2\n",
      "{'configurable': {'thread_id': '1', 'thread_ts': '1ef2d716-8ef7-69fe-8001-564ec5188d15'}} 1\n",
      "{'configurable': {'thread_id': '1', 'thread_ts': '1ef2d716-8ef3-6a09-8000-257051a380bb'}} 0\n",
      "{'configurable': {'thread_id': '1', 'thread_ts': '1ef2d716-8ef0-6d4a-bfff-0e5a6b759563'}} 0\n"
     ]
    }
   ],
   "source": [
    "states = []\n",
    "for state in graph.get_state_history(thread):\n",
    "    states.append(state.config)\n",
    "    print(state.config, state.values['count'])"
   ]
  },
  {
   "cell_type": "markdown",
   "id": "90790095-4080-4e76-b538-47caac7d9699",
   "metadata": {},
   "source": [
    "Grab an early state."
   ]
  },
  {
   "cell_type": "code",
   "execution_count": 69,
   "id": "e1db574e-f158-44cf-b921-f1f4466c314d",
   "metadata": {
    "height": 30
   },
   "outputs": [
    {
     "data": {
      "text/plain": [
       "{'configurable': {'thread_id': '1',\n",
       "  'thread_ts': '1ef2d716-8ef7-69fe-8001-564ec5188d15'}}"
      ]
     },
     "execution_count": 69,
     "metadata": {},
     "output_type": "execute_result"
    }
   ],
   "source": [
    "states[-3]"
   ]
  },
  {
   "cell_type": "markdown",
   "id": "2cc233eb-f388-4ecd-bfb5-dac3568d37ce",
   "metadata": {},
   "source": [
    "This is the state after Node1 completed for the first time. Note `next` is `Node2`and `count` is 1."
   ]
  },
  {
   "cell_type": "code",
   "execution_count": 70,
   "id": "240f5039-7916-4c2a-88d5-d363b2898e70",
   "metadata": {
    "height": 30
   },
   "outputs": [
    {
     "data": {
      "text/plain": [
       "StateSnapshot(values={'lnode': 'node_1', 'scratch': 'hi', 'count': 1}, next=('Node2',), config={'configurable': {'thread_id': '1', 'thread_ts': '1ef2d716-8ef7-69fe-8001-564ec5188d15'}}, metadata={'source': 'loop', 'step': 1, 'writes': {'Node1': {'count': 1, 'lnode': 'node_1'}}}, created_at='2024-06-18T12:50:58.685376+00:00', parent_config={'configurable': {'thread_id': '1', 'thread_ts': '1ef2d716-8ef3-6a09-8000-257051a380bb'}})"
      ]
     },
     "execution_count": 70,
     "metadata": {},
     "output_type": "execute_result"
    }
   ],
   "source": [
    "graph.get_state(states[-3])"
   ]
  },
  {
   "cell_type": "markdown",
   "id": "4872468e-4d23-4840-ae14-c06c1ab4f161",
   "metadata": {},
   "source": [
    "### Go Back in Time\n",
    "Use that state in `invoke` to go back in time. Notice it uses states[-3] as *current_state* and continues to node2,"
   ]
  },
  {
   "cell_type": "code",
   "execution_count": null,
   "id": "e3049179-b901-4557-a9c4-78afb3d53d27",
   "metadata": {
    "height": 30
   },
   "outputs": [],
   "source": [
    "graph.invoke(None, states[-3])"
   ]
  },
  {
   "cell_type": "markdown",
   "id": "5bf7789a-df3d-4c7e-8899-d96a99d45717",
   "metadata": {},
   "source": [
    "Notice the new states are now in state history. Notice the counts on the far right."
   ]
  },
  {
   "cell_type": "code",
   "execution_count": null,
   "id": "37fa44ec-9bd1-484b-a415-cc5f50b6e799",
   "metadata": {
    "height": 64
   },
   "outputs": [],
   "source": [
    "thread = {\"configurable\": {\"thread_id\": str(1)}}\n",
    "for state in graph.get_state_history(thread):\n",
    "    print(state.config, state.values['count'])"
   ]
  },
  {
   "cell_type": "markdown",
   "id": "d3c8d305-6752-4cf6-a8cb-7babf3bbd643",
   "metadata": {},
   "source": [
    "You can see the details below. Lots of text, but try to find the node that start the new branch. Notice the parent *config* is not the previous entry in the stack, but is the entry from state[-3]."
   ]
  },
  {
   "cell_type": "code",
   "execution_count": null,
   "id": "07d25697-fcf0-4a26-9485-3e195b0af225",
   "metadata": {
    "height": 64
   },
   "outputs": [],
   "source": [
    "thread = {\"configurable\": {\"thread_id\": str(1)}}\n",
    "for state in graph.get_state_history(thread):\n",
    "    print(state,\"\\n\")"
   ]
  },
  {
   "cell_type": "markdown",
   "id": "d4653f91-761c-4185-8ca2-83de758308c7",
   "metadata": {},
   "source": [
    "### Modify State\n",
    "Let's start by starting a fresh thread and running to clean out history."
   ]
  },
  {
   "cell_type": "code",
   "execution_count": null,
   "id": "0eaf346c-ce22-4b6a-b18f-d200dfd991de",
   "metadata": {
    "height": 47
   },
   "outputs": [],
   "source": [
    "thread2 = {\"configurable\": {\"thread_id\": str(2)}}\n",
    "graph.invoke({\"count\":0, \"scratch\":\"hi\"},thread2)"
   ]
  },
  {
   "cell_type": "code",
   "execution_count": null,
   "id": "90fc1797-25e6-4931-b173-2e520b71c372",
   "metadata": {
    "height": 64
   },
   "outputs": [],
   "source": [
    "from IPython.display import Image\n",
    "\n",
    "Image(graph.get_graph().draw_png())"
   ]
  },
  {
   "cell_type": "code",
   "execution_count": null,
   "id": "4ede9215-3133-4ad9-8dd5-6a8288ebe055",
   "metadata": {
    "height": 81
   },
   "outputs": [],
   "source": [
    "states2 = []\n",
    "for state in graph.get_state_history(thread2):\n",
    "    states2.append(state.config)\n",
    "    print(state.config, state.values['count'])   "
   ]
  },
  {
   "cell_type": "markdown",
   "id": "23ab2c5f-cb1d-4851-8925-ce0af1f12a40",
   "metadata": {},
   "source": [
    "Start by grabbing a state."
   ]
  },
  {
   "cell_type": "code",
   "execution_count": null,
   "id": "65313f6a-c7a9-49e3-aab2-0eb905e74a91",
   "metadata": {
    "height": 47
   },
   "outputs": [],
   "source": [
    "save_state = graph.get_state(states2[-3])\n",
    "save_state"
   ]
  },
  {
   "cell_type": "markdown",
   "id": "c81b354b-8c2d-4150-9150-ac9d8486af02",
   "metadata": {},
   "source": [
    "Now modify the values. One subtle item to note: Recall when agent state was defined, `count` used `operator.add` to indicate that values are *added* to the current value. Here, `-3` will be added to the current count value rather than replace it."
   ]
  },
  {
   "cell_type": "code",
   "execution_count": null,
   "id": "dae6527b-912f-4f86-a07b-1fae684aaa77",
   "metadata": {
    "height": 64
   },
   "outputs": [],
   "source": [
    "save_state.values[\"count\"] = -3\n",
    "save_state.values[\"scratch\"] = \"hello\"\n",
    "save_state"
   ]
  },
  {
   "cell_type": "markdown",
   "id": "904bb1eb-2e39-472f-ae56-d8e95e2f1ab6",
   "metadata": {},
   "source": [
    "Now update the state. This creates a new entry at the *top*, or *latest* entry in memory. This will become the current state."
   ]
  },
  {
   "cell_type": "code",
   "execution_count": null,
   "id": "bcd78670-b119-45fa-934b-2ce2d477b4c2",
   "metadata": {
    "height": 30
   },
   "outputs": [],
   "source": [
    "graph.update_state(thread2,save_state.values)"
   ]
  },
  {
   "cell_type": "markdown",
   "id": "1bb3beed-1c44-4364-bde9-b29ea5e8ca30",
   "metadata": {},
   "source": [
    "Current state is at the top. You can match the `thread_ts`.\n",
    "Notice the `parent_config`, `thread_ts` of the new node - it is the previous node."
   ]
  },
  {
   "cell_type": "code",
   "execution_count": null,
   "id": "231c7011-afe4-44bf-9e19-16220004912f",
   "metadata": {
    "height": 81
   },
   "outputs": [],
   "source": [
    "for i, state in enumerate(graph.get_state_history(thread2)):\n",
    "    if i >= 3:  #print latest 3\n",
    "        break\n",
    "    print(state, '\\n')"
   ]
  },
  {
   "cell_type": "markdown",
   "id": "62d34cd8-99b6-4224-b345-fe8475f2a602",
   "metadata": {},
   "source": [
    "### Try again with `as_node`\n",
    "When writing using `update_state()`, you want to define to the graph logic which node should be assumed as the writer. What this does is allow th graph logic to find the node on the graph. After writing the values, the `next()` value is computed by travesing the graph using the new state. In this case, the state we have was written by `Node1`. The graph can then compute the next state as being `Node2`. Note that in some graphs, this may involve going through conditional edges!  Let's try this out."
   ]
  },
  {
   "cell_type": "code",
   "execution_count": null,
   "id": "7bfda2f6-5887-40fa-a733-a4357ad857d8",
   "metadata": {
    "height": 30
   },
   "outputs": [],
   "source": [
    "graph.update_state(thread2,save_state.values, as_node=\"Node1\")"
   ]
  },
  {
   "cell_type": "code",
   "execution_count": null,
   "id": "0788ac0f-5f64-49b2-b335-3094bbb19143",
   "metadata": {
    "height": 81
   },
   "outputs": [],
   "source": [
    "for i, state in enumerate(graph.get_state_history(thread2)):\n",
    "    if i >= 3:  #print latest 3\n",
    "        break\n",
    "    print(state, '\\n')"
   ]
  },
  {
   "cell_type": "markdown",
   "id": "18a8f52e-d1a6-46a0-a519-6fda0cb91624",
   "metadata": {},
   "source": [
    "`invoke` will run from the current state if not given a particular `thread_ts`. This is now the entry that was just added."
   ]
  },
  {
   "cell_type": "code",
   "execution_count": null,
   "id": "9650d355-07c1-4a7d-a21d-4231673a7ee9",
   "metadata": {
    "height": 30
   },
   "outputs": [],
   "source": [
    "graph.invoke(None,thread2)"
   ]
  },
  {
   "cell_type": "markdown",
   "id": "c59d3069-8fe7-4a05-9bfd-8e3a2e4590ad",
   "metadata": {},
   "source": [
    "Print out the state history, notice the `scratch` value change on the latest entries."
   ]
  },
  {
   "cell_type": "code",
   "execution_count": null,
   "id": "35088704-2b18-4d44-ba0e-dccbfde6ed9e",
   "metadata": {
    "height": 47
   },
   "outputs": [],
   "source": [
    "for state in graph.get_state_history(thread2):\n",
    "    print(state,\"\\n\")"
   ]
  },
  {
   "cell_type": "markdown",
   "id": "a5ea1bba-cf12-4493-948b-08b300054742",
   "metadata": {},
   "source": [
    "Continue to experiment!"
   ]
  },
  {
   "cell_type": "code",
   "execution_count": null,
   "id": "393f7f1f-68b4-4462-bfa5-b6472ef1304a",
   "metadata": {
    "height": 30
   },
   "outputs": [],
   "source": []
  },
  {
   "cell_type": "code",
   "execution_count": null,
   "id": "43ac0aa9-baa7-4b58-889d-2118cc00c6b5",
   "metadata": {
    "height": 30
   },
   "outputs": [],
   "source": []
  },
  {
   "cell_type": "code",
   "execution_count": null,
   "id": "ed6098b9-e2a9-4767-8cb5-346db835c8d2",
   "metadata": {
    "height": 30
   },
   "outputs": [],
   "source": []
  },
  {
   "cell_type": "code",
   "execution_count": null,
   "id": "2d23cf2a-a179-44dc-9ae3-2eddda4b67b4",
   "metadata": {
    "height": 30
   },
   "outputs": [],
   "source": []
  },
  {
   "cell_type": "code",
   "execution_count": null,
   "id": "14a6005b-0221-4f5e-9be0-0580c1d03126",
   "metadata": {
    "height": 30
   },
   "outputs": [],
   "source": []
  },
  {
   "cell_type": "code",
   "execution_count": null,
   "id": "41c1ec12-f1c8-41ae-bb3e-5f28997b9b99",
   "metadata": {
    "height": 30
   },
   "outputs": [],
   "source": []
  },
  {
   "cell_type": "code",
   "execution_count": null,
   "id": "5c8c07d7-be17-4c17-82c5-6fe1db028b8b",
   "metadata": {
    "height": 30
   },
   "outputs": [],
   "source": []
  },
  {
   "cell_type": "code",
   "execution_count": null,
   "id": "04592c8e-1cfe-4b26-93b5-caf1ed1e7d24",
   "metadata": {
    "height": 30
   },
   "outputs": [],
   "source": []
  },
  {
   "cell_type": "code",
   "execution_count": null,
   "id": "6181c4a9-0e71-4f67-b71f-18a225e37202",
   "metadata": {
    "height": 30
   },
   "outputs": [],
   "source": []
  },
  {
   "cell_type": "code",
   "execution_count": null,
   "id": "e1c478a9-7bfe-49e2-8a7d-1536271f45a6",
   "metadata": {
    "height": 30
   },
   "outputs": [],
   "source": []
  },
  {
   "cell_type": "code",
   "execution_count": null,
   "id": "0a6d6771-3fad-4f37-9b32-45b36ad85c59",
   "metadata": {
    "height": 30
   },
   "outputs": [],
   "source": []
  },
  {
   "cell_type": "code",
   "execution_count": null,
   "id": "a3629eb3-655d-467a-b413-63f547c2de08",
   "metadata": {
    "height": 30
   },
   "outputs": [],
   "source": []
  },
  {
   "cell_type": "code",
   "execution_count": null,
   "id": "f772f251-2b61-4d10-97c5-61cef9207a76",
   "metadata": {
    "height": 30
   },
   "outputs": [],
   "source": []
  },
  {
   "cell_type": "code",
   "execution_count": null,
   "id": "0de92979-7ac5-4a7c-91c1-10806b7d529c",
   "metadata": {
    "height": 30
   },
   "outputs": [],
   "source": []
  },
  {
   "cell_type": "code",
   "execution_count": null,
   "id": "479c4325-f625-4bbf-9d74-cc58f10763f2",
   "metadata": {
    "height": 30
   },
   "outputs": [],
   "source": []
  },
  {
   "cell_type": "code",
   "execution_count": null,
   "id": "c4070be7-72da-42f9-a25d-8a6c628788b8",
   "metadata": {
    "height": 30
   },
   "outputs": [],
   "source": []
  },
  {
   "cell_type": "code",
   "execution_count": null,
   "id": "9289efbe-7033-4f32-8482-2039c5f9db90",
   "metadata": {
    "height": 30
   },
   "outputs": [],
   "source": []
  },
  {
   "cell_type": "code",
   "execution_count": null,
   "id": "25e480bb-22ab-4acb-a42c-71da3d04a5b1",
   "metadata": {
    "height": 30
   },
   "outputs": [],
   "source": []
  },
  {
   "cell_type": "code",
   "execution_count": null,
   "id": "90dea35c-7483-4b3d-b5e3-76eb3a0fe536",
   "metadata": {
    "height": 30
   },
   "outputs": [],
   "source": []
  },
  {
   "cell_type": "code",
   "execution_count": null,
   "id": "e9ac5730-a9d5-4ea4-8546-ebcb265cf1da",
   "metadata": {
    "height": 30
   },
   "outputs": [],
   "source": []
  },
  {
   "cell_type": "code",
   "execution_count": null,
   "id": "96e1f28b-46d8-4bcd-b2e4-730376ee7ccf",
   "metadata": {
    "height": 30
   },
   "outputs": [],
   "source": []
  },
  {
   "cell_type": "code",
   "execution_count": null,
   "id": "22ac7020-b4f4-4bd2-a875-ccee93f83d83",
   "metadata": {
    "height": 30
   },
   "outputs": [],
   "source": []
  },
  {
   "cell_type": "code",
   "execution_count": null,
   "id": "61f79eb9-d1c9-44b0-9efd-a8f9b380332a",
   "metadata": {
    "height": 30
   },
   "outputs": [],
   "source": []
  },
  {
   "cell_type": "code",
   "execution_count": null,
   "id": "ce509206-bde1-43e4-a88f-8a565539d357",
   "metadata": {
    "height": 30
   },
   "outputs": [],
   "source": []
  },
  {
   "cell_type": "code",
   "execution_count": null,
   "id": "bdba1590-9e7b-4c0f-9492-81a07d286c55",
   "metadata": {
    "height": 30
   },
   "outputs": [],
   "source": []
  },
  {
   "cell_type": "code",
   "execution_count": null,
   "id": "aa8fe4a8-5372-479d-b248-af7a295c86c1",
   "metadata": {
    "height": 30
   },
   "outputs": [],
   "source": []
  },
  {
   "cell_type": "code",
   "execution_count": null,
   "id": "7514720a-14bc-4552-ade5-fa03f86f4c73",
   "metadata": {
    "height": 30
   },
   "outputs": [],
   "source": []
  }
 ],
 "metadata": {
  "kernelspec": {
   "display_name": "Python 3 (ipykernel)",
   "language": "python",
   "name": "python3"
  },
  "language_info": {
   "codemirror_mode": {
    "name": "ipython",
    "version": 3
   },
   "file_extension": ".py",
   "mimetype": "text/x-python",
   "name": "python",
   "nbconvert_exporter": "python",
   "pygments_lexer": "ipython3",
   "version": "3.11.9"
  }
 },
 "nbformat": 4,
 "nbformat_minor": 5
}
