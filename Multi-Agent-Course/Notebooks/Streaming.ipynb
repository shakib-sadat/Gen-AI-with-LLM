{
 "cells": [
  {
   "cell_type": "markdown",
   "id": "b5789bc3-b1ae-42c7-94a8-2ef4f89946fc",
   "metadata": {},
   "source": [
    "# Lesson 4: Persistence and Streaming"
   ]
  },
  {
   "cell_type": "code",
   "execution_count": 16,
   "id": "f5762271-8736-4e94-9444-8c92bd0e8074",
   "metadata": {
    "height": 64
   },
   "outputs": [],
   "source": [
    "from dotenv import load_dotenv\n",
    "\n",
    "_ = load_dotenv()"
   ]
  },
  {
   "cell_type": "code",
   "execution_count": 17,
   "id": "d0168aee-bce9-4d60-b827-f86a88187e31",
   "metadata": {
    "height": 115
   },
   "outputs": [],
   "source": [
    "from langgraph.graph import StateGraph, END\n",
    "from typing import TypedDict, Annotated\n",
    "import operator\n",
    "from langchain_core.messages import AnyMessage, SystemMessage, HumanMessage, ToolMessage\n",
    "from langchain_openai import ChatOpenAI\n",
    "from langchain_community.tools.tavily_search import TavilySearchResults"
   ]
  },
  {
   "cell_type": "code",
   "execution_count": 18,
   "id": "da06a64f-a2d5-4a66-8090-9ada0930c684",
   "metadata": {
    "height": 30
   },
   "outputs": [],
   "source": [
    "tool = TavilySearchResults(max_results=2)"
   ]
  },
  {
   "cell_type": "code",
   "execution_count": 19,
   "id": "2589c5b6-6cc2-4594-9a17-dccdcf676054",
   "metadata": {
    "height": 47
   },
   "outputs": [],
   "source": [
    "class AgentState(TypedDict):\n",
    "    messages: Annotated[list[AnyMessage], operator.add]"
   ]
  },
  {
   "cell_type": "code",
   "execution_count": 21,
   "id": "9c033522-d2fc-41ac-8e3c-5e35872bf88d",
   "metadata": {
    "height": 64
   },
   "outputs": [],
   "source": [
    "from langgraph.checkpoint.sqlite import SqliteSaver\n",
    "\n",
    "memory = SqliteSaver.from_conn_string(\":memory:\")"
   ]
  },
  {
   "cell_type": "code",
   "execution_count": 22,
   "id": "a2ba84ec-c172-4de7-ac55-e3158a531b23",
   "metadata": {
    "height": 574
   },
   "outputs": [],
   "source": [
    "class Agent:\n",
    "    def __init__(self, model, tools, checkpointer, system=\"\"):\n",
    "        self.system = system\n",
    "        graph = StateGraph(AgentState)\n",
    "        graph.add_node(\"llm\", self.call_openai)\n",
    "        graph.add_node(\"action\", self.take_action)\n",
    "        graph.add_conditional_edges(\"llm\", self.exists_action, {True: \"action\", False: END})\n",
    "        graph.add_edge(\"action\", \"llm\")\n",
    "        graph.set_entry_point(\"llm\")\n",
    "        self.graph = graph.compile(checkpointer=checkpointer)\n",
    "        self.tools = {t.name: t for t in tools}\n",
    "        self.model = model.bind_tools(tools)\n",
    "\n",
    "    def call_openai(self, state: AgentState):\n",
    "        messages = state['messages']\n",
    "        if self.system:\n",
    "            messages = [SystemMessage(content=self.system)] + messages\n",
    "        message = self.model.invoke(messages)\n",
    "        return {'messages': [message]}\n",
    "\n",
    "    def exists_action(self, state: AgentState):\n",
    "        result = state['messages'][-1]\n",
    "        return len(result.tool_calls) > 0\n",
    "\n",
    "    def take_action(self, state: AgentState):\n",
    "        tool_calls = state['messages'][-1].tool_calls\n",
    "        results = []\n",
    "        for t in tool_calls:\n",
    "            print(f\"Calling: {t}\")\n",
    "            result = self.tools[t['name']].invoke(t['args'])\n",
    "            results.append(ToolMessage(tool_call_id=t['id'], name=t['name'], content=str(result)))\n",
    "        print(\"Back to the model!\")\n",
    "        return {'messages': results}"
   ]
  },
  {
   "cell_type": "code",
   "execution_count": 23,
   "id": "876d5092-b8ef-4e38-b4d7-0e80c609bf7a",
   "metadata": {
    "height": 132
   },
   "outputs": [],
   "source": [
    "prompt = \"\"\"You are a smart research assistant. Use the search engine to look up information. \\\n",
    "You are allowed to make multiple calls (either together or in sequence). \\\n",
    "Only look up information when you are sure of what you want. \\\n",
    "If you need to look up some information before asking a follow up question, you are allowed to do that!\n",
    "\"\"\"\n",
    "model = ChatOpenAI(model=\"gpt-4o\")\n",
    "abot = Agent(model, [tool], system=prompt, checkpointer=memory)"
   ]
  },
  {
   "cell_type": "code",
   "execution_count": 24,
   "id": "10084a02-2928-4945-9f7c-ad3f5b33caf7",
   "metadata": {
    "height": 30
   },
   "outputs": [],
   "source": [
    "messages = [HumanMessage(content=\"What is the weather in Noakhali?\")]"
   ]
  },
  {
   "cell_type": "code",
   "execution_count": 25,
   "id": "714d1205-f8fc-4912-b148-2a45da99219c",
   "metadata": {
    "height": 30
   },
   "outputs": [],
   "source": [
    "thread = {\"configurable\": {\"thread_id\": \"1\"}}"
   ]
  },
  {
   "cell_type": "code",
   "execution_count": 26,
   "id": "83588e70-254f-4f83-a510-c8ae81e729b0",
   "metadata": {
    "height": 64
   },
   "outputs": [
    {
     "name": "stdout",
     "output_type": "stream",
     "text": [
      "[AIMessage(content='', additional_kwargs={'tool_calls': [{'id': 'call_i961gN1KuorLNkXfFhkSjfuy', 'function': {'arguments': '{\"query\":\"current weather in Noakhali\"}', 'name': 'tavily_search_results_json'}, 'type': 'function'}]}, response_metadata={'token_usage': {'completion_tokens': 23, 'prompt_tokens': 153, 'total_tokens': 176}, 'model_name': 'gpt-4o', 'system_fingerprint': 'fp_f4e629d0a5', 'finish_reason': 'tool_calls', 'logprobs': None}, id='run-f593235d-cd08-4b46-ab6d-c33a8dad00b7-0', tool_calls=[{'name': 'tavily_search_results_json', 'args': {'query': 'current weather in Noakhali'}, 'id': 'call_i961gN1KuorLNkXfFhkSjfuy'}])]\n",
      "Calling: {'name': 'tavily_search_results_json', 'args': {'query': 'current weather in Noakhali'}, 'id': 'call_i961gN1KuorLNkXfFhkSjfuy'}\n",
      "Back to the model!\n",
      "[ToolMessage(content='[{\\'url\\': \\'https://www.weatherapi.com/\\', \\'content\\': \"{\\'location\\': {\\'name\\': \\'Noakhali\\', \\'region\\': \\'\\', \\'country\\': \\'Bangladesh\\', \\'lat\\': 22.83, \\'lon\\': 90.67, \\'tz_id\\': \\'Asia/Dhaka\\', \\'localtime_epoch\\': 1718713695, \\'localtime\\': \\'2024-06-18 18:28\\'}, \\'current\\': {\\'last_updated_epoch\\': 1718712900, \\'last_updated\\': \\'2024-06-18 18:15\\', \\'temp_c\\': 30.6, \\'temp_f\\': 87.1, \\'is_day\\': 1, \\'condition\\': {\\'text\\': \\'Patchy rain nearby\\', \\'icon\\': \\'//cdn.weatherapi.com/weather/64x64/day/176.png\\', \\'code\\': 1063}, \\'wind_mph\\': 20.8, \\'wind_kph\\': 33.5, \\'wind_degree\\': 182, \\'wind_dir\\': \\'S\\', \\'pressure_mb\\': 998.0, \\'pressure_in\\': 29.48, \\'precip_mm\\': 0.01, \\'precip_in\\': 0.0, \\'humidity\\': 78, \\'cloud\\': 87, \\'feelslike_c\\': 38.6, \\'feelslike_f\\': 101.6, \\'windchill_c\\': 30.6, \\'windchill_f\\': 87.1, \\'heatindex_c\\': 38.6, \\'heatindex_f\\': 101.6, \\'dewpoint_c\\': 26.5, \\'dewpoint_f\\': 79.6, \\'vis_km\\': 10.0, \\'vis_miles\\': 6.0, \\'uv\\': 7.0, \\'gust_mph\\': 29.3, \\'gust_kph\\': 47.1}}\"}, {\\'url\\': \\'https://www.wunderground.com/history/daily/bd/noakhali/date/2024-6-18\\', \\'content\\': \\'Current Weather for Popular Cities . San Francisco, CA warning 61 ...\\'}]', name='tavily_search_results_json', tool_call_id='call_i961gN1KuorLNkXfFhkSjfuy')]\n",
      "[AIMessage(content='The current weather in Noakhali, Bangladesh is as follows:\\n\\n- **Temperature**: 30.6°C (87.1°F)\\n- **Condition**: Patchy rain nearby\\n- **Feels Like**: 38.6°C (101.6°F)\\n- **Wind**: From the south at 33.5 kph (20.8 mph)\\n- **Humidity**: 78%\\n- **Cloud Cover**: 87%\\n- **Precipitation**: 0.01 mm\\n- **Visibility**: 10 km\\n- **UV Index**: 7', response_metadata={'token_usage': {'completion_tokens': 125, 'prompt_tokens': 635, 'total_tokens': 760}, 'model_name': 'gpt-4o', 'system_fingerprint': 'fp_f4e629d0a5', 'finish_reason': 'stop', 'logprobs': None}, id='run-892b67b1-2924-4e1a-a231-f7a3032d45bc-0')]\n"
     ]
    }
   ],
   "source": [
    "for event in abot.graph.stream({\"messages\": messages}, thread):\n",
    "    for v in event.values():\n",
    "        print(v['messages'])"
   ]
  },
  {
   "cell_type": "code",
   "execution_count": 27,
   "id": "6cb3ef4c-58b3-401b-b104-0d51e553d982",
   "metadata": {
    "height": 98
   },
   "outputs": [
    {
     "name": "stdout",
     "output_type": "stream",
     "text": [
      "{'messages': [AIMessage(content='', additional_kwargs={'tool_calls': [{'id': 'call_jxSb8QCpHBBaBF7b8YDGCksP', 'function': {'arguments': '{\"query\":\"current weather in Barisal\"}', 'name': 'tavily_search_results_json'}, 'type': 'function'}]}, response_metadata={'token_usage': {'completion_tokens': 22, 'prompt_tokens': 773, 'total_tokens': 795}, 'model_name': 'gpt-4o', 'system_fingerprint': 'fp_9cb5d38cf7', 'finish_reason': 'tool_calls', 'logprobs': None}, id='run-03c1ac81-84a0-4230-bcc9-2a4ee92434b8-0', tool_calls=[{'name': 'tavily_search_results_json', 'args': {'query': 'current weather in Barisal'}, 'id': 'call_jxSb8QCpHBBaBF7b8YDGCksP'}])]}\n",
      "Calling: {'name': 'tavily_search_results_json', 'args': {'query': 'current weather in Barisal'}, 'id': 'call_jxSb8QCpHBBaBF7b8YDGCksP'}\n",
      "Back to the model!\n",
      "{'messages': [ToolMessage(content='[{\\'url\\': \\'https://www.weatherapi.com/\\', \\'content\\': \"{\\'location\\': {\\'name\\': \\'Barisal\\', \\'region\\': \\'\\', \\'country\\': \\'Bangladesh\\', \\'lat\\': 22.7, \\'lon\\': 90.37, \\'tz_id\\': \\'Asia/Dhaka\\', \\'localtime_epoch\\': 1718713714, \\'localtime\\': \\'2024-06-18 18:28\\'}, \\'current\\': {\\'last_updated_epoch\\': 1718712900, \\'last_updated\\': \\'2024-06-18 18:15\\', \\'temp_c\\': 31.4, \\'temp_f\\': 88.5, \\'is_day\\': 1, \\'condition\\': {\\'text\\': \\'Thundery outbreaks in nearby\\', \\'icon\\': \\'//cdn.weatherapi.com/weather/64x64/day/200.png\\', \\'code\\': 1087}, \\'wind_mph\\': 18.8, \\'wind_kph\\': 30.2, \\'wind_degree\\': 185, \\'wind_dir\\': \\'S\\', \\'pressure_mb\\': 998.0, \\'pressure_in\\': 29.46, \\'precip_mm\\': 0.0, \\'precip_in\\': 0.0, \\'humidity\\': 73, \\'cloud\\': 29, \\'feelslike_c\\': 39.3, \\'feelslike_f\\': 102.7, \\'windchill_c\\': 31.4, \\'windchill_f\\': 88.5, \\'heatindex_c\\': 39.3, \\'heatindex_f\\': 102.7, \\'dewpoint_c\\': 26.0, \\'dewpoint_f\\': 78.8, \\'vis_km\\': 9.0, \\'vis_miles\\': 5.0, \\'uv\\': 7.0, \\'gust_mph\\': 25.9, \\'gust_kph\\': 41.6}}\"}, {\\'url\\': \\'https://www.accuweather.com/en/bd/barisal/27110/weather-forecast/27110\\', \\'content\\': \\'Barisal, Barisal, Bangladesh Weather Forecast, with current conditions, wind, air quality, and what to expect for the next 3 days.\\'}]', name='tavily_search_results_json', tool_call_id='call_jxSb8QCpHBBaBF7b8YDGCksP')]}\n",
      "{'messages': [AIMessage(content='The current weather in Barisal, Bangladesh is as follows:\\n\\n- **Temperature**: 31.4°C (88.5°F)\\n- **Condition**: Thundery outbreaks nearby\\n- **Feels Like**: 39.3°C (102.7°F)\\n- **Wind**: From the south at 30.2 kph (18.8 mph)\\n- **Humidity**: 73%\\n- **Cloud Cover**: 29%\\n- **Precipitation**: 0.0 mm\\n- **Visibility**: 9 km\\n- **UV Index**: 7', response_metadata={'token_usage': {'completion_tokens': 125, 'prompt_tokens': 1268, 'total_tokens': 1393}, 'model_name': 'gpt-4o', 'system_fingerprint': 'fp_f4e629d0a5', 'finish_reason': 'stop', 'logprobs': None}, id='run-4bc3a6cd-0ff0-4dae-a316-3ed33172da28-0')]}\n"
     ]
    }
   ],
   "source": [
    "messages = [HumanMessage(content=\"What about in Barisal?\")]\n",
    "thread = {\"configurable\": {\"thread_id\": \"1\"}}\n",
    "for event in abot.graph.stream({\"messages\": messages}, thread):\n",
    "    for v in event.values():\n",
    "        print(v)"
   ]
  },
  {
   "cell_type": "code",
   "execution_count": 28,
   "id": "dc3293b7-a50c-43c8-a022-8975e1e444b8",
   "metadata": {
    "height": 98
   },
   "outputs": [
    {
     "name": "stdout",
     "output_type": "stream",
     "text": [
      "{'messages': [AIMessage(content='Based on the current temperatures:\\n\\n- **Noakhali**: 30.6°C (87.1°F)\\n- **Barisal**: 31.4°C (88.5°F)\\n\\nBarisal is slightly warmer than Noakhali.', response_metadata={'token_usage': {'completion_tokens': 52, 'prompt_tokens': 1405, 'total_tokens': 1457}, 'model_name': 'gpt-4o', 'system_fingerprint': 'fp_f4e629d0a5', 'finish_reason': 'stop', 'logprobs': None}, id='run-faa8bce9-9319-4022-b597-c548b9b6b46c-0')]}\n"
     ]
    }
   ],
   "source": [
    "messages = [HumanMessage(content=\"Which one is warmer?\")]\n",
    "thread = {\"configurable\": {\"thread_id\": \"1\"}}\n",
    "for event in abot.graph.stream({\"messages\": messages}, thread):\n",
    "    for v in event.values():\n",
    "        print(v)"
   ]
  },
  {
   "cell_type": "code",
   "execution_count": 29,
   "id": "0722c3d4-4cbf-43bf-81b0-50f634c4ce61",
   "metadata": {
    "height": 98
   },
   "outputs": [
    {
     "name": "stdout",
     "output_type": "stream",
     "text": [
      "{'messages': [AIMessage(content='Could you please specify what you are asking about? Are you referring to comparing the temperatures of two specific places, materials, times, or something else? Please provide more details so I can assist you accurately.', response_metadata={'token_usage': {'completion_tokens': 42, 'prompt_tokens': 149, 'total_tokens': 191}, 'model_name': 'gpt-4o', 'system_fingerprint': 'fp_9cb5d38cf7', 'finish_reason': 'stop', 'logprobs': None}, id='run-8b21c223-c7ec-4503-b65d-ab9c6cd0b05c-0')]}\n"
     ]
    }
   ],
   "source": [
    "messages = [HumanMessage(content=\"Which one is warmer?\")]\n",
    "thread = {\"configurable\": {\"thread_id\": \"2\"}}\n",
    "for event in abot.graph.stream({\"messages\": messages}, thread):\n",
    "    for v in event.values():\n",
    "        print(v)"
   ]
  },
  {
   "cell_type": "markdown",
   "id": "ace59a36-3941-459e-b9d1-ac5a4a1ed3ae",
   "metadata": {},
   "source": [
    "## Streaming tokens"
   ]
  },
  {
   "cell_type": "code",
   "execution_count": 30,
   "id": "6b2f82fe-3ec4-4917-be51-9fb10d1317fa",
   "metadata": {
    "height": 81
   },
   "outputs": [],
   "source": [
    "from langgraph.checkpoint.aiosqlite import AsyncSqliteSaver\n",
    "\n",
    "memory = AsyncSqliteSaver.from_conn_string(\":memory:\")\n",
    "abot = Agent(model, [tool], system=prompt, checkpointer=memory)"
   ]
  },
  {
   "cell_type": "code",
   "execution_count": 31,
   "id": "ee0fe1c7-77e2-499c-a2f9-1f739bb6ddf0",
   "metadata": {
    "height": 200
   },
   "outputs": [
    {
     "name": "stdout",
     "output_type": "stream",
     "text": [
      "Calling: {'name': 'tavily_search_results_json', 'args': {'query': 'current weather in Dhaka'}, 'id': 'call_ThueI0U9XFfd28Y1e2ad21Lq'}\n",
      "Back to the model!\n",
      "The| current| weather| in| Dh|aka| is| as| follows|:\n",
      "\n",
      "|-| **|Temperature|:**| |32|.|4|°C| (|90|.|3|°F|)\n",
      "|-| **|Condition|:**| Patch|y| light| rain|\n",
      "|-| **|Feels| Like|:**| |40|.|7|°C| (|105|.|2|°F|)\n",
      "|-| **|Humidity|:**| |69|%\n",
      "|-| **|Wind|:**| |23|.|4| k|ph| (|14|.|5| mph|)| from| the| South|\n",
      "|-| **|Pressure|:**| |996|.|0| mb|\n",
      "|-| **|Visibility|:**| |9|.|0| km|\n",
      "|-| **|UV| Index|:**| |7|\n",
      "\n",
      "|![|Weather| Icon|](|https|://|cdn|.weather|api|.com|/weather|/|64|x|64|/day|/|293|.png|)|"
     ]
    }
   ],
   "source": [
    "messages = [HumanMessage(content=\"What is the weather in Dhaka\")]\n",
    "thread = {\"configurable\": {\"thread_id\": \"4\"}}\n",
    "async for event in abot.graph.astream_events({\"messages\": messages}, thread, version=\"v1\"):\n",
    "    kind = event[\"event\"]\n",
    "    if kind == \"on_chat_model_stream\":\n",
    "        content = event[\"data\"][\"chunk\"].content\n",
    "        if content:\n",
    "            # Empty content in the context of OpenAI means\n",
    "            # that the model is asking for a tool to be invoked.\n",
    "            # So we only print non-empty content\n",
    "            print(content, end=\"|\")"
   ]
  },
  {
   "cell_type": "code",
   "execution_count": null,
   "id": "98f303b1-a4d0-408c-8cc0-515ff980717f",
   "metadata": {
    "height": 30
   },
   "outputs": [],
   "source": []
  }
 ],
 "metadata": {
  "kernelspec": {
   "display_name": "Python 3 (ipykernel)",
   "language": "python",
   "name": "python3"
  },
  "language_info": {
   "codemirror_mode": {
    "name": "ipython",
    "version": 3
   },
   "file_extension": ".py",
   "mimetype": "text/x-python",
   "name": "python",
   "nbconvert_exporter": "python",
   "pygments_lexer": "ipython3",
   "version": "3.11.9"
  }
 },
 "nbformat": 4,
 "nbformat_minor": 5
}
